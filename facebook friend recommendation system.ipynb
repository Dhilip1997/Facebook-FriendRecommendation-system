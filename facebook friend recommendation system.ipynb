{
 "cells": [
  {
   "cell_type": "markdown",
   "metadata": {},
   "source": [
    "# Facebook Friend Recommendation System-Dhilip vasanth"
   ]
  },
  {
   "cell_type": "markdown",
   "metadata": {
    "colab_type": "text",
    "id": "kF-Uu_DRNfWa"
   },
   "source": [
    "# Problem statement:\n",
    "\n",
    "Given a directed social graph, have to predict missing links to recommend users (Link Prediction in graph)"
   ]
  },
  {
   "cell_type": "markdown",
   "metadata": {
    "colab_type": "text",
    "id": "1p-DWbJVN2IZ"
   },
   "source": [
    "# Data Overview:\n",
    "\n",
    "Taken data from facebook's recruting challenge on kaggle https://www.kaggle.com/c/FacebookRecruiting\n",
    "data contains two columns source and destination eac edge in graph - Data columns (total 2 columns):\n",
    "- source_node int64\n",
    "- destination_node int64"
   ]
  },
  {
   "cell_type": "markdown",
   "metadata": {
    "colab_type": "text",
    "id": "0K_BdltGOC8B"
   },
   "source": [
    "# Business objectives and constraints:\n",
    "\n",
    "1. No low-latency requirement.\n",
    "\n",
    "2. Probability of prediction is useful to recommend highest probability links"
   ]
  },
  {
   "cell_type": "markdown",
   "metadata": {
    "colab_type": "text",
    "id": "ZZkdiv8WOP3S"
   },
   "source": [
    "# Performance metric for supervised learning:\n",
    "\n",
    "1. Both precision and recall is important so F1 score is good choice\n",
    "\n",
    "2. Confusion matrix"
   ]
  },
  {
   "cell_type": "markdown",
   "metadata": {},
   "source": [
    "# Import the libraries "
   ]
  },
  {
   "cell_type": "code",
   "execution_count": 116,
   "metadata": {
    "colab": {},
    "colab_type": "code",
    "id": "7Sg6t49bNQ8K"
   },
   "outputs": [],
   "source": [
    "import warnings\n",
    "warnings.filterwarnings(\"ignore\")\n",
    "import csv\n",
    "import pandas as pd\n",
    "import datetime \n",
    "import time \n",
    "import numpy as np\n",
    "import matplotlib\n",
    "import matplotlib.pylab as plt\n",
    "import seaborn as sns\n",
    "import math\n",
    "import pickle\n",
    "import os\n",
    "import warnings\n",
    "import networkx as nx\n",
    "import pdb\n",
    "import pickle\n",
    "from pandas import HDFStore,DataFrame\n",
    "from pandas import read_hdf\n",
    "from tqdm import tqdm\n",
    "from scipy.sparse.linalg import svds, eigs\n",
    "from sklearn.ensemble import RandomForestClassifier\n",
    "from sklearn.metrics import f1_score\n",
    "from sklearn.model_selection import RandomizedSearchCV\n",
    "from scipy.stats import randint as sp_randint\n",
    "from scipy.stats import uniform\n",
    "from sklearn.metrics import roc_curve, auc\n",
    "import xgboost\n",
    "from sklearn.linear_model import SGDClassifier"
   ]
  },
  {
   "cell_type": "markdown",
   "metadata": {},
   "source": [
    "# Loading the dataset"
   ]
  },
  {
   "cell_type": "code",
   "execution_count": 2,
   "metadata": {},
   "outputs": [],
   "source": [
    "df=pd.read_csv(\"train_woheader-1.csv\")\n"
   ]
  },
  {
   "cell_type": "code",
   "execution_count": 3,
   "metadata": {
    "colab": {
     "base_uri": "https://localhost:8080/",
     "height": 119
    },
    "colab_type": "code",
    "executionInfo": {
     "elapsed": 55645,
     "status": "ok",
     "timestamp": 1584288841021,
     "user": {
      "displayName": "dhilip vasanth",
      "photoUrl": "https://lh3.googleusercontent.com/a-/AOh14GiPm8uz0B1KKEQqKyUOeAKWkgwaw8k-I6ofmD2xUZo=s64",
      "userId": "13352314856419202111"
     },
     "user_tz": -330
    },
    "id": "c6ZILkgqO3Po",
    "outputId": "296a7e7a-1f3f-4497-ee1d-0c89f0d26256"
   },
   "outputs": [
    {
     "name": "stdout",
     "output_type": "stream",
     "text": [
      "Name: \n",
      "Type: DiGraph\n",
      "Number of nodes: 1862220\n",
      "Number of edges: 9437519\n",
      "Average in degree:   5.0679\n",
      "Average out degree:   5.0679\n"
     ]
    }
   ],
   "source": [
    "g=nx.read_edgelist('train_woheader-1.csv',delimiter=',',create_using=nx.DiGraph(),nodetype=int)\n",
    "print(nx.info(g))\n"
   ]
  },
  {
   "cell_type": "markdown",
   "metadata": {},
   "source": [
    "# Visualization the dataset into graph"
   ]
  },
  {
   "cell_type": "code",
   "execution_count": 106,
   "metadata": {},
   "outputs": [],
   "source": [
    "pd.read_csv(\"train_woheader-1.csv\",nrows=50).to_csv(\"sample.csv\",header=False,index=False)"
   ]
  },
  {
   "cell_type": "code",
   "execution_count": 5,
   "metadata": {},
   "outputs": [
    {
     "name": "stderr",
     "output_type": "stream",
     "text": [
      "C:\\Users\\fsdq-\\Anaconda3\\lib\\site-packages\\networkx\\drawing\\nx_pylab.py:563: MatplotlibDeprecationWarning: \n",
      "The iterable function was deprecated in Matplotlib 3.1 and will be removed in 3.3. Use np.iterable instead.\n",
      "  if not cb.iterable(width):\n",
      "C:\\Users\\fsdq-\\Anaconda3\\lib\\site-packages\\networkx\\drawing\\nx_pylab.py:660: MatplotlibDeprecationWarning: \n",
      "The iterable function was deprecated in Matplotlib 3.1 and will be removed in 3.3. Use np.iterable instead.\n",
      "  if cb.iterable(node_size):  # many node sizes\n",
      "C:\\Users\\fsdq-\\Anaconda3\\lib\\site-packages\\networkx\\drawing\\nx_pylab.py:660: MatplotlibDeprecationWarning: \n",
      "The iterable function was deprecated in Matplotlib 3.1 and will be removed in 3.3. Use np.iterable instead.\n",
      "  if cb.iterable(node_size):  # many node sizes\n",
      "C:\\Users\\fsdq-\\Anaconda3\\lib\\site-packages\\networkx\\drawing\\nx_pylab.py:660: MatplotlibDeprecationWarning: \n",
      "The iterable function was deprecated in Matplotlib 3.1 and will be removed in 3.3. Use np.iterable instead.\n",
      "  if cb.iterable(node_size):  # many node sizes\n",
      "C:\\Users\\fsdq-\\Anaconda3\\lib\\site-packages\\networkx\\drawing\\nx_pylab.py:660: MatplotlibDeprecationWarning: \n",
      "The iterable function was deprecated in Matplotlib 3.1 and will be removed in 3.3. Use np.iterable instead.\n",
      "  if cb.iterable(node_size):  # many node sizes\n",
      "C:\\Users\\fsdq-\\Anaconda3\\lib\\site-packages\\networkx\\drawing\\nx_pylab.py:660: MatplotlibDeprecationWarning: \n",
      "The iterable function was deprecated in Matplotlib 3.1 and will be removed in 3.3. Use np.iterable instead.\n",
      "  if cb.iterable(node_size):  # many node sizes\n",
      "C:\\Users\\fsdq-\\Anaconda3\\lib\\site-packages\\networkx\\drawing\\nx_pylab.py:660: MatplotlibDeprecationWarning: \n",
      "The iterable function was deprecated in Matplotlib 3.1 and will be removed in 3.3. Use np.iterable instead.\n",
      "  if cb.iterable(node_size):  # many node sizes\n",
      "C:\\Users\\fsdq-\\Anaconda3\\lib\\site-packages\\networkx\\drawing\\nx_pylab.py:660: MatplotlibDeprecationWarning: \n",
      "The iterable function was deprecated in Matplotlib 3.1 and will be removed in 3.3. Use np.iterable instead.\n",
      "  if cb.iterable(node_size):  # many node sizes\n",
      "C:\\Users\\fsdq-\\Anaconda3\\lib\\site-packages\\networkx\\drawing\\nx_pylab.py:660: MatplotlibDeprecationWarning: \n",
      "The iterable function was deprecated in Matplotlib 3.1 and will be removed in 3.3. Use np.iterable instead.\n",
      "  if cb.iterable(node_size):  # many node sizes\n",
      "C:\\Users\\fsdq-\\Anaconda3\\lib\\site-packages\\networkx\\drawing\\nx_pylab.py:660: MatplotlibDeprecationWarning: \n",
      "The iterable function was deprecated in Matplotlib 3.1 and will be removed in 3.3. Use np.iterable instead.\n",
      "  if cb.iterable(node_size):  # many node sizes\n",
      "C:\\Users\\fsdq-\\Anaconda3\\lib\\site-packages\\networkx\\drawing\\nx_pylab.py:660: MatplotlibDeprecationWarning: \n",
      "The iterable function was deprecated in Matplotlib 3.1 and will be removed in 3.3. Use np.iterable instead.\n",
      "  if cb.iterable(node_size):  # many node sizes\n",
      "C:\\Users\\fsdq-\\Anaconda3\\lib\\site-packages\\networkx\\drawing\\nx_pylab.py:660: MatplotlibDeprecationWarning: \n",
      "The iterable function was deprecated in Matplotlib 3.1 and will be removed in 3.3. Use np.iterable instead.\n",
      "  if cb.iterable(node_size):  # many node sizes\n",
      "C:\\Users\\fsdq-\\Anaconda3\\lib\\site-packages\\networkx\\drawing\\nx_pylab.py:660: MatplotlibDeprecationWarning: \n",
      "The iterable function was deprecated in Matplotlib 3.1 and will be removed in 3.3. Use np.iterable instead.\n",
      "  if cb.iterable(node_size):  # many node sizes\n",
      "C:\\Users\\fsdq-\\Anaconda3\\lib\\site-packages\\networkx\\drawing\\nx_pylab.py:660: MatplotlibDeprecationWarning: \n",
      "The iterable function was deprecated in Matplotlib 3.1 and will be removed in 3.3. Use np.iterable instead.\n",
      "  if cb.iterable(node_size):  # many node sizes\n",
      "C:\\Users\\fsdq-\\Anaconda3\\lib\\site-packages\\networkx\\drawing\\nx_pylab.py:660: MatplotlibDeprecationWarning: \n",
      "The iterable function was deprecated in Matplotlib 3.1 and will be removed in 3.3. Use np.iterable instead.\n",
      "  if cb.iterable(node_size):  # many node sizes\n",
      "C:\\Users\\fsdq-\\Anaconda3\\lib\\site-packages\\networkx\\drawing\\nx_pylab.py:660: MatplotlibDeprecationWarning: \n",
      "The iterable function was deprecated in Matplotlib 3.1 and will be removed in 3.3. Use np.iterable instead.\n",
      "  if cb.iterable(node_size):  # many node sizes\n",
      "C:\\Users\\fsdq-\\Anaconda3\\lib\\site-packages\\networkx\\drawing\\nx_pylab.py:660: MatplotlibDeprecationWarning: \n",
      "The iterable function was deprecated in Matplotlib 3.1 and will be removed in 3.3. Use np.iterable instead.\n",
      "  if cb.iterable(node_size):  # many node sizes\n",
      "C:\\Users\\fsdq-\\Anaconda3\\lib\\site-packages\\networkx\\drawing\\nx_pylab.py:660: MatplotlibDeprecationWarning: \n",
      "The iterable function was deprecated in Matplotlib 3.1 and will be removed in 3.3. Use np.iterable instead.\n",
      "  if cb.iterable(node_size):  # many node sizes\n",
      "C:\\Users\\fsdq-\\Anaconda3\\lib\\site-packages\\networkx\\drawing\\nx_pylab.py:660: MatplotlibDeprecationWarning: \n",
      "The iterable function was deprecated in Matplotlib 3.1 and will be removed in 3.3. Use np.iterable instead.\n",
      "  if cb.iterable(node_size):  # many node sizes\n",
      "C:\\Users\\fsdq-\\Anaconda3\\lib\\site-packages\\networkx\\drawing\\nx_pylab.py:660: MatplotlibDeprecationWarning: \n",
      "The iterable function was deprecated in Matplotlib 3.1 and will be removed in 3.3. Use np.iterable instead.\n",
      "  if cb.iterable(node_size):  # many node sizes\n",
      "C:\\Users\\fsdq-\\Anaconda3\\lib\\site-packages\\networkx\\drawing\\nx_pylab.py:660: MatplotlibDeprecationWarning: \n",
      "The iterable function was deprecated in Matplotlib 3.1 and will be removed in 3.3. Use np.iterable instead.\n",
      "  if cb.iterable(node_size):  # many node sizes\n",
      "C:\\Users\\fsdq-\\Anaconda3\\lib\\site-packages\\networkx\\drawing\\nx_pylab.py:660: MatplotlibDeprecationWarning: \n",
      "The iterable function was deprecated in Matplotlib 3.1 and will be removed in 3.3. Use np.iterable instead.\n",
      "  if cb.iterable(node_size):  # many node sizes\n",
      "C:\\Users\\fsdq-\\Anaconda3\\lib\\site-packages\\networkx\\drawing\\nx_pylab.py:660: MatplotlibDeprecationWarning: \n",
      "The iterable function was deprecated in Matplotlib 3.1 and will be removed in 3.3. Use np.iterable instead.\n",
      "  if cb.iterable(node_size):  # many node sizes\n",
      "C:\\Users\\fsdq-\\Anaconda3\\lib\\site-packages\\networkx\\drawing\\nx_pylab.py:660: MatplotlibDeprecationWarning: \n",
      "The iterable function was deprecated in Matplotlib 3.1 and will be removed in 3.3. Use np.iterable instead.\n",
      "  if cb.iterable(node_size):  # many node sizes\n",
      "C:\\Users\\fsdq-\\Anaconda3\\lib\\site-packages\\networkx\\drawing\\nx_pylab.py:660: MatplotlibDeprecationWarning: \n",
      "The iterable function was deprecated in Matplotlib 3.1 and will be removed in 3.3. Use np.iterable instead.\n",
      "  if cb.iterable(node_size):  # many node sizes\n",
      "C:\\Users\\fsdq-\\Anaconda3\\lib\\site-packages\\networkx\\drawing\\nx_pylab.py:660: MatplotlibDeprecationWarning: \n",
      "The iterable function was deprecated in Matplotlib 3.1 and will be removed in 3.3. Use np.iterable instead.\n",
      "  if cb.iterable(node_size):  # many node sizes\n",
      "C:\\Users\\fsdq-\\Anaconda3\\lib\\site-packages\\networkx\\drawing\\nx_pylab.py:660: MatplotlibDeprecationWarning: \n",
      "The iterable function was deprecated in Matplotlib 3.1 and will be removed in 3.3. Use np.iterable instead.\n",
      "  if cb.iterable(node_size):  # many node sizes\n",
      "C:\\Users\\fsdq-\\Anaconda3\\lib\\site-packages\\networkx\\drawing\\nx_pylab.py:660: MatplotlibDeprecationWarning: \n",
      "The iterable function was deprecated in Matplotlib 3.1 and will be removed in 3.3. Use np.iterable instead.\n",
      "  if cb.iterable(node_size):  # many node sizes\n",
      "C:\\Users\\fsdq-\\Anaconda3\\lib\\site-packages\\networkx\\drawing\\nx_pylab.py:660: MatplotlibDeprecationWarning: \n",
      "The iterable function was deprecated in Matplotlib 3.1 and will be removed in 3.3. Use np.iterable instead.\n",
      "  if cb.iterable(node_size):  # many node sizes\n",
      "C:\\Users\\fsdq-\\Anaconda3\\lib\\site-packages\\networkx\\drawing\\nx_pylab.py:660: MatplotlibDeprecationWarning: \n",
      "The iterable function was deprecated in Matplotlib 3.1 and will be removed in 3.3. Use np.iterable instead.\n",
      "  if cb.iterable(node_size):  # many node sizes\n",
      "C:\\Users\\fsdq-\\Anaconda3\\lib\\site-packages\\networkx\\drawing\\nx_pylab.py:660: MatplotlibDeprecationWarning: \n",
      "The iterable function was deprecated in Matplotlib 3.1 and will be removed in 3.3. Use np.iterable instead.\n",
      "  if cb.iterable(node_size):  # many node sizes\n",
      "C:\\Users\\fsdq-\\Anaconda3\\lib\\site-packages\\networkx\\drawing\\nx_pylab.py:660: MatplotlibDeprecationWarning: \n",
      "The iterable function was deprecated in Matplotlib 3.1 and will be removed in 3.3. Use np.iterable instead.\n",
      "  if cb.iterable(node_size):  # many node sizes\n",
      "C:\\Users\\fsdq-\\Anaconda3\\lib\\site-packages\\networkx\\drawing\\nx_pylab.py:660: MatplotlibDeprecationWarning: \n",
      "The iterable function was deprecated in Matplotlib 3.1 and will be removed in 3.3. Use np.iterable instead.\n",
      "  if cb.iterable(node_size):  # many node sizes\n",
      "C:\\Users\\fsdq-\\Anaconda3\\lib\\site-packages\\networkx\\drawing\\nx_pylab.py:660: MatplotlibDeprecationWarning: \n",
      "The iterable function was deprecated in Matplotlib 3.1 and will be removed in 3.3. Use np.iterable instead.\n",
      "  if cb.iterable(node_size):  # many node sizes\n",
      "C:\\Users\\fsdq-\\Anaconda3\\lib\\site-packages\\networkx\\drawing\\nx_pylab.py:660: MatplotlibDeprecationWarning: \n",
      "The iterable function was deprecated in Matplotlib 3.1 and will be removed in 3.3. Use np.iterable instead.\n",
      "  if cb.iterable(node_size):  # many node sizes\n",
      "C:\\Users\\fsdq-\\Anaconda3\\lib\\site-packages\\networkx\\drawing\\nx_pylab.py:660: MatplotlibDeprecationWarning: \n",
      "The iterable function was deprecated in Matplotlib 3.1 and will be removed in 3.3. Use np.iterable instead.\n",
      "  if cb.iterable(node_size):  # many node sizes\n",
      "C:\\Users\\fsdq-\\Anaconda3\\lib\\site-packages\\networkx\\drawing\\nx_pylab.py:660: MatplotlibDeprecationWarning: \n",
      "The iterable function was deprecated in Matplotlib 3.1 and will be removed in 3.3. Use np.iterable instead.\n",
      "  if cb.iterable(node_size):  # many node sizes\n",
      "C:\\Users\\fsdq-\\Anaconda3\\lib\\site-packages\\networkx\\drawing\\nx_pylab.py:660: MatplotlibDeprecationWarning: \n",
      "The iterable function was deprecated in Matplotlib 3.1 and will be removed in 3.3. Use np.iterable instead.\n",
      "  if cb.iterable(node_size):  # many node sizes\n",
      "C:\\Users\\fsdq-\\Anaconda3\\lib\\site-packages\\networkx\\drawing\\nx_pylab.py:660: MatplotlibDeprecationWarning: \n",
      "The iterable function was deprecated in Matplotlib 3.1 and will be removed in 3.3. Use np.iterable instead.\n",
      "  if cb.iterable(node_size):  # many node sizes\n",
      "C:\\Users\\fsdq-\\Anaconda3\\lib\\site-packages\\networkx\\drawing\\nx_pylab.py:660: MatplotlibDeprecationWarning: \n",
      "The iterable function was deprecated in Matplotlib 3.1 and will be removed in 3.3. Use np.iterable instead.\n",
      "  if cb.iterable(node_size):  # many node sizes\n",
      "C:\\Users\\fsdq-\\Anaconda3\\lib\\site-packages\\networkx\\drawing\\nx_pylab.py:660: MatplotlibDeprecationWarning: \n",
      "The iterable function was deprecated in Matplotlib 3.1 and will be removed in 3.3. Use np.iterable instead.\n",
      "  if cb.iterable(node_size):  # many node sizes\n",
      "C:\\Users\\fsdq-\\Anaconda3\\lib\\site-packages\\networkx\\drawing\\nx_pylab.py:660: MatplotlibDeprecationWarning: \n",
      "The iterable function was deprecated in Matplotlib 3.1 and will be removed in 3.3. Use np.iterable instead.\n",
      "  if cb.iterable(node_size):  # many node sizes\n",
      "C:\\Users\\fsdq-\\Anaconda3\\lib\\site-packages\\networkx\\drawing\\nx_pylab.py:660: MatplotlibDeprecationWarning: \n",
      "The iterable function was deprecated in Matplotlib 3.1 and will be removed in 3.3. Use np.iterable instead.\n",
      "  if cb.iterable(node_size):  # many node sizes\n",
      "C:\\Users\\fsdq-\\Anaconda3\\lib\\site-packages\\networkx\\drawing\\nx_pylab.py:660: MatplotlibDeprecationWarning: \n",
      "The iterable function was deprecated in Matplotlib 3.1 and will be removed in 3.3. Use np.iterable instead.\n",
      "  if cb.iterable(node_size):  # many node sizes\n",
      "C:\\Users\\fsdq-\\Anaconda3\\lib\\site-packages\\networkx\\drawing\\nx_pylab.py:660: MatplotlibDeprecationWarning: \n",
      "The iterable function was deprecated in Matplotlib 3.1 and will be removed in 3.3. Use np.iterable instead.\n",
      "  if cb.iterable(node_size):  # many node sizes\n",
      "C:\\Users\\fsdq-\\Anaconda3\\lib\\site-packages\\networkx\\drawing\\nx_pylab.py:660: MatplotlibDeprecationWarning: \n",
      "The iterable function was deprecated in Matplotlib 3.1 and will be removed in 3.3. Use np.iterable instead.\n",
      "  if cb.iterable(node_size):  # many node sizes\n",
      "C:\\Users\\fsdq-\\Anaconda3\\lib\\site-packages\\networkx\\drawing\\nx_pylab.py:660: MatplotlibDeprecationWarning: \n",
      "The iterable function was deprecated in Matplotlib 3.1 and will be removed in 3.3. Use np.iterable instead.\n",
      "  if cb.iterable(node_size):  # many node sizes\n",
      "C:\\Users\\fsdq-\\Anaconda3\\lib\\site-packages\\networkx\\drawing\\nx_pylab.py:660: MatplotlibDeprecationWarning: \n",
      "The iterable function was deprecated in Matplotlib 3.1 and will be removed in 3.3. Use np.iterable instead.\n",
      "  if cb.iterable(node_size):  # many node sizes\n",
      "C:\\Users\\fsdq-\\Anaconda3\\lib\\site-packages\\networkx\\drawing\\nx_pylab.py:660: MatplotlibDeprecationWarning: \n",
      "The iterable function was deprecated in Matplotlib 3.1 and will be removed in 3.3. Use np.iterable instead.\n",
      "  if cb.iterable(node_size):  # many node sizes\n",
      "C:\\Users\\fsdq-\\Anaconda3\\lib\\site-packages\\networkx\\drawing\\nx_pylab.py:660: MatplotlibDeprecationWarning: \n",
      "The iterable function was deprecated in Matplotlib 3.1 and will be removed in 3.3. Use np.iterable instead.\n",
      "  if cb.iterable(node_size):  # many node sizes\n",
      "C:\\Users\\fsdq-\\Anaconda3\\lib\\site-packages\\networkx\\drawing\\nx_pylab.py:660: MatplotlibDeprecationWarning: \n",
      "The iterable function was deprecated in Matplotlib 3.1 and will be removed in 3.3. Use np.iterable instead.\n",
      "  if cb.iterable(node_size):  # many node sizes\n"
     ]
    },
    {
     "name": "stdout",
     "output_type": "stream",
     "text": [
      "Name: \n",
      "Type: DiGraph\n",
      "Number of nodes: 66\n",
      "Number of edges: 50\n",
      "Average in degree:   0.7576\n",
      "Average out degree:   0.7576\n"
     ]
    },
    {
     "data": {
      "image/png": "[encoded data removed]",
      "text/plain": [
       "<Figure size 432x288 with 1 Axes>"
      ]
     },
     "metadata": {},
     "output_type": "display_data"
    }
   ],
   "source": [
    "subgraph=nx.read_edgelist(\"sample.csv\",delimiter=',',create_using=nx.DiGraph(),nodetype=int)\n",
    "pos=nx.spring_layout(subgraph)\n",
    "nx.draw(subgraph,pos,node_color=\"#A0CBE2\",edge_color=\"#00bb5e\",width=1,edge_cmap=plt.cm.Blues,with_labels=True)\n",
    "plt.savefig(\"graph_sample.pdf\")\n",
    "print(nx.info(subgraph))"
   ]
  },
  {
   "cell_type": "markdown",
   "metadata": {
    "colab_type": "text",
    "id": "iDFT90vyj6MF"
   },
   "source": [
    "# Exploratory Data Analysis"
   ]
  },
  {
   "cell_type": "code",
   "execution_count": 6,
   "metadata": {
    "colab": {
     "base_uri": "https://localhost:8080/",
     "height": 34
    },
    "colab_type": "code",
    "executionInfo": {
     "elapsed": 55638,
     "status": "ok",
     "timestamp": 1584288841023,
     "user": {
      "displayName": "dhilip vasanth",
      "photoUrl": "https://lh3.googleusercontent.com/a-/AOh14GiPm8uz0B1KKEQqKyUOeAKWkgwaw8k-I6ofmD2xUZo=s64",
      "userId": "13352314856419202111"
     },
     "user_tz": -330
    },
    "id": "oVr_vU1Rbsu9",
    "outputId": "c2359b1c-dbad-4d12-d10f-a6d08d8d9a21"
   },
   "outputs": [
    {
     "name": "stdout",
     "output_type": "stream",
     "text": [
      "The number of unique person:1862220\n"
     ]
    }
   ],
   "source": [
    "print(\"The number of unique person:{}\".format(len(g.nodes())))"
   ]
  },
  {
   "cell_type": "markdown",
   "metadata": {
    "colab_type": "text",
    "id": "UsVpw51lj46A"
   },
   "source": [
    "## No of followers for each person"
   ]
  },
  {
   "cell_type": "code",
   "execution_count": 7,
   "metadata": {
    "colab": {
     "base_uri": "https://localhost:8080/",
     "height": 592
    },
    "colab_type": "code",
    "executionInfo": {
     "elapsed": 57353,
     "status": "ok",
     "timestamp": 1584288842748,
     "user": {
      "displayName": "dhilip vasanth",
      "photoUrl": "https://lh3.googleusercontent.com/a-/AOh14GiPm8uz0B1KKEQqKyUOeAKWkgwaw8k-I6ofmD2xUZo=s64",
      "userId": "13352314856419202111"
     },
     "user_tz": -330
    },
    "id": "p7EfXbxKpnav",
    "outputId": "c856ffac-0764-4717-ff07-5915c566ec7d"
   },
   "outputs": [
    {
     "data": {
      "image/png": "[encoded data removed]",
      "text/plain": [
       "<Figure size 720x720 with 1 Axes>"
      ]
     },
     "metadata": {},
     "output_type": "display_data"
    }
   ],
   "source": [
    "from collections import Counter\n",
    "\n",
    "followee=dict(g.in_degree())\n",
    "followee_counter=list(Counter(followee).values())\n",
    "followee_counter.sort()\n",
    "plt.figure(figsize=(10,10))\n",
    "plt.plot(followee_counter)\n",
    "plt.show()"
   ]
  },
  {
   "cell_type": "code",
   "execution_count": 8,
   "metadata": {
    "colab": {
     "base_uri": "https://localhost:8080/",
     "height": 606
    },
    "colab_type": "code",
    "executionInfo": {
     "elapsed": 58328,
     "status": "ok",
     "timestamp": 1584288843737,
     "user": {
      "displayName": "dhilip vasanth",
      "photoUrl": "https://lh3.googleusercontent.com/a-/AOh14GiPm8uz0B1KKEQqKyUOeAKWkgwaw8k-I6ofmD2xUZo=s64",
      "userId": "13352314856419202111"
     },
     "user_tz": -330
    },
    "id": "OtSYtcKyuEE4",
    "outputId": "95ab08a3-cf96-467d-c690-b7afa5e019a6"
   },
   "outputs": [
    {
     "data": {
      "image/png": "[encoded data removed]",
      "text/plain": [
       "<Figure size 720x720 with 1 Axes>"
      ]
     },
     "metadata": {},
     "output_type": "display_data"
    }
   ],
   "source": [
    "plt.figure(figsize=(10,10))\n",
    "plt.plot(followee_counter[0:1500000])\n",
    "plt.xlabel(\"indexno.\")\n",
    "plt.ylabel(\"No of followers\")\n",
    "plt.show()"
   ]
  },
  {
   "cell_type": "code",
   "execution_count": 9,
   "metadata": {
    "colab": {
     "base_uri": "https://localhost:8080/",
     "height": 265
    },
    "colab_type": "code",
    "executionInfo": {
     "elapsed": 58810,
     "status": "ok",
     "timestamp": 1584288844230,
     "user": {
      "displayName": "dhilip vasanth",
      "photoUrl": "https://lh3.googleusercontent.com/a-/AOh14GiPm8uz0B1KKEQqKyUOeAKWkgwaw8k-I6ofmD2xUZo=s64",
      "userId": "13352314856419202111"
     },
     "user_tz": -330
    },
    "id": "7eOoC3yqxknO",
    "outputId": "04693c14-b23d-460d-d56a-dc3c329f94a0"
   },
   "outputs": [
    {
     "data": {
      "image/png": "[encoded data removed]",
      "text/plain": [
       "<Figure size 432x288 with 1 Axes>"
      ]
     },
     "metadata": {},
     "output_type": "display_data"
    }
   ],
   "source": [
    "plt.boxplot(followee_counter)\n",
    "plt.ylabel('No Of Followers')\n",
    "plt.show()"
   ]
  },
  {
   "cell_type": "markdown",
   "metadata": {
    "colab_type": "text",
    "id": "muPFyLWJz8YU"
   },
   "source": [
    "## No of people each person is following\n"
   ]
  },
  {
   "cell_type": "code",
   "execution_count": 10,
   "metadata": {
    "colab": {
     "base_uri": "https://localhost:8080/",
     "height": 606
    },
    "colab_type": "code",
    "executionInfo": {
     "elapsed": 72990,
     "status": "ok",
     "timestamp": 1584288858429,
     "user": {
      "displayName": "dhilip vasanth",
      "photoUrl": "https://lh3.googleusercontent.com/a-/AOh14GiPm8uz0B1KKEQqKyUOeAKWkgwaw8k-I6ofmD2xUZo=s64",
      "userId": "13352314856419202111"
     },
     "user_tz": -330
    },
    "id": "urc_lzjYyoda",
    "outputId": "d263a853-bb56-439b-b1e8-f4fa3a856586"
   },
   "outputs": [
    {
     "data": {
      "image/png": "[encoded data removed]",
      "text/plain": [
       "<Figure size 720x720 with 1 Axes>"
      ]
     },
     "metadata": {},
     "output_type": "display_data"
    }
   ],
   "source": [
    "follower=dict(g.out_degree())\n",
    "follower_counter=list(Counter(follower).values())\n",
    "follower_counter.sort()\n",
    "plt.figure(figsize=(10,10))\n",
    "plt.plot(follower_counter)\n",
    "plt.ylabel(\"No of people each person following\")\n",
    "plt.xlabel(\"index\")\n",
    "plt.show()"
   ]
  },
  {
   "cell_type": "code",
   "execution_count": 11,
   "metadata": {
    "colab": {
     "base_uri": "https://localhost:8080/",
     "height": 265
    },
    "colab_type": "code",
    "executionInfo": {
     "elapsed": 72981,
     "status": "ok",
     "timestamp": 1584288858431,
     "user": {
      "displayName": "dhilip vasanth",
      "photoUrl": "https://lh3.googleusercontent.com/a-/AOh14GiPm8uz0B1KKEQqKyUOeAKWkgwaw8k-I6ofmD2xUZo=s64",
      "userId": "13352314856419202111"
     },
     "user_tz": -330
    },
    "id": "r8sdTX9i2SYA",
    "outputId": "6a439b4f-8546-4037-a19b-3e3f2c05f4dd"
   },
   "outputs": [
    {
     "data": {
      "image/png": "[encoded data removed]",
      "text/plain": [
       "<Figure size 432x288 with 1 Axes>"
      ]
     },
     "metadata": {},
     "output_type": "display_data"
    }
   ],
   "source": [
    "plt.boxplot(follower_counter)\n",
    "plt.ylabel(\"No of people each person is following\")\n",
    "plt.show()"
   ]
  },
  {
   "cell_type": "code",
   "execution_count": 12,
   "metadata": {
    "colab": {
     "base_uri": "https://localhost:8080/",
     "height": 34
    },
    "colab_type": "code",
    "executionInfo": {
     "elapsed": 89256,
     "status": "ok",
     "timestamp": 1584288874729,
     "user": {
      "displayName": "dhilip vasanth",
      "photoUrl": "https://lh3.googleusercontent.com/a-/AOh14GiPm8uz0B1KKEQqKyUOeAKWkgwaw8k-I6ofmD2xUZo=s64",
      "userId": "13352314856419202111"
     },
     "user_tz": -330
    },
    "id": "TY663Mhj3eX-",
    "outputId": "f332efee-6a00-4bd5-f597-c12a1d6bb1f7"
   },
   "outputs": [
    {
     "name": "stdout",
     "output_type": "stream",
     "text": [
      "No of persons those are not following anyone are 274512\n"
     ]
    }
   ],
   "source": [
    "print('No of persons those are not following anyone are' ,sum(np.array(follower_counter)==0))"
   ]
  },
  {
   "cell_type": "code",
   "execution_count": 13,
   "metadata": {
    "colab": {
     "base_uri": "https://localhost:8080/",
     "height": 34
    },
    "colab_type": "code",
    "executionInfo": {
     "elapsed": 93431,
     "status": "ok",
     "timestamp": 1584288878913,
     "user": {
      "displayName": "dhilip vasanth",
      "photoUrl": "https://lh3.googleusercontent.com/a-/AOh14GiPm8uz0B1KKEQqKyUOeAKWkgwaw8k-I6ofmD2xUZo=s64",
      "userId": "13352314856419202111"
     },
     "user_tz": -330
    },
    "id": "XRLxzmtC8EHs",
    "outputId": "9a0d8db6-e23c-4874-a5e8-c14294fb725c"
   },
   "outputs": [
    {
     "name": "stdout",
     "output_type": "stream",
     "text": [
      "No of persons having zero followers are 188043\n"
     ]
    }
   ],
   "source": [
    "print('No of persons having zero followers are' ,sum(np.array(followee_counter)==0))"
   ]
  },
  {
   "cell_type": "markdown",
   "metadata": {
    "colab_type": "text",
    "id": "Rlan5o50bG09"
   },
   "source": [
    "## Both follower and following"
   ]
  },
  {
   "cell_type": "code",
   "execution_count": 14,
   "metadata": {
    "colab": {
     "base_uri": "https://localhost:8080/",
     "height": 592
    },
    "colab_type": "code",
    "executionInfo": {
     "elapsed": 99319,
     "status": "ok",
     "timestamp": 1584288884811,
     "user": {
      "displayName": "dhilip vasanth",
      "photoUrl": "https://lh3.googleusercontent.com/a-/AOh14GiPm8uz0B1KKEQqKyUOeAKWkgwaw8k-I6ofmD2xUZo=s64",
      "userId": "13352314856419202111"
     },
     "user_tz": -330
    },
    "id": "eToCR6n8CW5-",
    "outputId": "46cfa4d3-d50a-40d9-c772-130b42c17e06"
   },
   "outputs": [
    {
     "data": {
      "image/png": "[encoded data removed]",
      "text/plain": [
       "<Figure size 720x720 with 1 Axes>"
      ]
     },
     "metadata": {},
     "output_type": "display_data"
    }
   ],
   "source": [
    "from collections import Counter\n",
    "\n",
    "followee=dict(g.in_degree())\n",
    "follower=dict(g.out_degree())\n",
    "followee_counter=Counter(followee)\n",
    "follower_counter=Counter(follower)\n",
    "followerandfollowee=followee_counter+follower_counter\n",
    "both=np.array(list(followerandfollowee.values()))\n",
    "a=sorted(both)\n",
    "\n",
    "plt.figure(figsize=(10,10))\n",
    "plt.plot(a)\n",
    "plt.show()"
   ]
  },
  {
   "cell_type": "code",
   "execution_count": 15,
   "metadata": {
    "colab": {
     "base_uri": "https://localhost:8080/",
     "height": 606
    },
    "colab_type": "code",
    "executionInfo": {
     "elapsed": 99961,
     "status": "ok",
     "timestamp": 1584288885464,
     "user": {
      "displayName": "dhilip vasanth",
      "photoUrl": "https://lh3.googleusercontent.com/a-/AOh14GiPm8uz0B1KKEQqKyUOeAKWkgwaw8k-I6ofmD2xUZo=s64",
      "userId": "13352314856419202111"
     },
     "user_tz": -330
    },
    "id": "AuI6AQuNZPkh",
    "outputId": "3f968a64-f835-42ed-d9ac-71e91f278e76"
   },
   "outputs": [
    {
     "data": {
      "image/png": "[encoded data removed]",
      "text/plain": [
       "<Figure size 720x720 with 1 Axes>"
      ]
     },
     "metadata": {},
     "output_type": "display_data"
    }
   ],
   "source": [
    "plt.figure(figsize=(10,10))\n",
    "plt.plot(a[0:1500000])\n",
    "plt.xlabel('Index No')\n",
    "plt.ylabel('No Of people each person is following + followers')\n",
    "plt.show()"
   ]
  },
  {
   "cell_type": "markdown",
   "metadata": {
    "colab_type": "text",
    "id": "GbsLCHNyzZfX"
   },
   "source": [
    "## Posing a problem as classification problem"
   ]
  },
  {
   "cell_type": "code",
   "execution_count": 16,
   "metadata": {
    "colab": {
     "base_uri": "https://localhost:8080/",
     "height": 51
    },
    "colab_type": "code",
    "executionInfo": {
     "elapsed": 102871,
     "status": "ok",
     "timestamp": 1584288888384,
     "user": {
      "displayName": "dhilip vasanth",
      "photoUrl": "https://lh3.googleusercontent.com/a-/AOh14GiPm8uz0B1KKEQqKyUOeAKWkgwaw8k-I6ofmD2xUZo=s64",
      "userId": "13352314856419202111"
     },
     "user_tz": -330
    },
    "id": "DSocgMEVzbIs",
    "outputId": "c319068c-532d-4b81-8c1d-cab68873a552"
   },
   "outputs": [
    {
     "name": "stdout",
     "output_type": "stream",
     "text": [
      "No. of mising edges: 9437519\n"
     ]
    },
    {
     "data": {
      "text/plain": [
       "9437519"
      ]
     },
     "execution_count": 16,
     "metadata": {},
     "output_type": "execute_result"
    }
   ],
   "source": [
    "missing_edges = pickle.load(open('missing_edges_final.p','rb'))\n",
    "print(\"No. of mising edges:\",len(missing_edges))\n",
    "len(missing_edges)"
   ]
  },
  {
   "cell_type": "markdown",
   "metadata": {
    "colab_type": "text",
    "id": "7fLUgucs2iVd"
   },
   "source": [
    "# Train and Test data split:\n",
    "\n",
    "Removed edges from Graph and used as test data and after removing used that graph for creating features for Train and test data"
   ]
  },
  {
   "cell_type": "code",
   "execution_count": 17,
   "metadata": {
    "colab": {},
    "colab_type": "code",
    "id": "9lmrX7FE2mfJ"
   },
   "outputs": [],
   "source": [
    "from sklearn.model_selection import train_test_split\n",
    "df_positive=pd.read_csv(\"train.csv\")\n",
    "df_negative=pd.DataFrame(list(missing_edges),columns=[\"source_node\",\"destination_node\"])\n",
    "x_trainpos,x_testpos,y_trainpos,y_testpos=train_test_split(df_positive,np.ones(len(df_positive)),test_size=0.2,random_state=9)\n",
    "x_trainneg,x_testneg,y_trainneg,y_testneg=train_test_split(df_negative,np.zeros(len(df_positive)),test_size=0.2,random_state=9)\n"
   ]
  },
  {
   "cell_type": "code",
   "execution_count": 18,
   "metadata": {
    "colab": {
     "base_uri": "https://localhost:8080/",
     "height": 119
    },
    "colab_type": "code",
    "executionInfo": {
     "elapsed": 110392,
     "status": "ok",
     "timestamp": 1584288895921,
     "user": {
      "displayName": "dhilip vasanth",
      "photoUrl": "https://lh3.googleusercontent.com/a-/AOh14GiPm8uz0B1KKEQqKyUOeAKWkgwaw8k-I6ofmD2xUZo=s64",
      "userId": "13352314856419202111"
     },
     "user_tz": -330
    },
    "id": "I3LqKuytH8ut",
    "outputId": "acfec3f5-8f0e-46ab-f892-88599f724f37"
   },
   "outputs": [
    {
     "name": "stdout",
     "output_type": "stream",
     "text": [
      "============================================================\n",
      "Number of nodes in the train data graph with edges 7550015\n",
      "Number of nodes in the train data graph without edges 7550015\n",
      "============================================================\n",
      "Number of nodes in the test data graph with edges 1887504\n",
      "Number of nodes in the test data graph without edges 1887504\n"
     ]
    }
   ],
   "source": [
    "print('='*60)\n",
    "print(\"Number of nodes in the train data graph with edges\", x_trainpos.shape[0])\n",
    "print(\"Number of nodes in the train data graph without edges\", x_trainneg.shape[0])\n",
    "print('='*60)\n",
    "print(\"Number of nodes in the test data graph with edges\", x_testpos.shape[0])\n",
    "print(\"Number of nodes in the test data graph without edges\", x_testneg.shape[0])\n"
   ]
  },
  {
   "cell_type": "code",
   "execution_count": 19,
   "metadata": {
    "colab": {
     "base_uri": "https://localhost:8080/",
     "height": 289
    },
    "colab_type": "code",
    "executionInfo": {
     "elapsed": 190480,
     "status": "ok",
     "timestamp": 1584288976018,
     "user": {
      "displayName": "dhilip vasanth",
      "photoUrl": "https://lh3.googleusercontent.com/a-/AOh14GiPm8uz0B1KKEQqKyUOeAKWkgwaw8k-I6ofmD2xUZo=s64",
      "userId": "13352314856419202111"
     },
     "user_tz": -330
    },
    "id": "u8hVUxKFB-9q",
    "outputId": "e994caff-9bd5-4c9d-fe37-4e29886bfccc"
   },
   "outputs": [
    {
     "name": "stdout",
     "output_type": "stream",
     "text": [
      "Name: \n",
      "Type: DiGraph\n",
      "Number of nodes: 1780722\n",
      "Number of edges: 7550015\n",
      "Average in degree:   4.2399\n",
      "Average out degree:   4.2399\n",
      "Name: \n",
      "Type: DiGraph\n",
      "Number of nodes: 1144623\n",
      "Number of edges: 1887504\n",
      "Average in degree:   1.6490\n",
      "Average out degree:   1.6490\n",
      "no of people common in train and test --  1063125\n",
      "no of people present in train but not present in test --  717597\n",
      "no of people present in test but not present in train --  81498\n",
      " % of people not there in Train but exist in Test in total Test data are 7.1200735962845405 %\n"
     ]
    }
   ],
   "source": [
    "train_graph=nx.read_edgelist('train_pos_after_eda.csv',delimiter=',',create_using=nx.DiGraph(),nodetype=int)\n",
    "test_graph=nx.read_edgelist('test_pos_after_eda.csv',delimiter=',',create_using=nx.DiGraph(),nodetype=int)\n",
    "print(nx.info(train_graph))\n",
    "print(nx.info(test_graph))\n",
    "\n",
    "train_nodes_pos = set(train_graph.nodes())\n",
    "test_nodes_pos = set(test_graph.nodes())\n",
    "\n",
    "trY_teY = len(train_nodes_pos.intersection(test_nodes_pos))\n",
    "trY_teN = len(train_nodes_pos - test_nodes_pos)\n",
    "teY_trN = len(test_nodes_pos - train_nodes_pos)\n",
    "\n",
    "print('no of people common in train and test -- ',trY_teY)\n",
    "print('no of people present in train but not present in test -- ',trY_teN)\n",
    "\n",
    "print('no of people present in test but not present in train -- ',teY_trN)\n",
    "print(' % of people not there in Train but exist in Test in total Test data are {} %'.format(teY_trN/len(test_nodes_pos)*100))"
   ]
  },
  {
   "cell_type": "code",
   "execution_count": 20,
   "metadata": {
    "colab": {},
    "colab_type": "code",
    "id": "jaxO_y0GfHYW"
   },
   "outputs": [],
   "source": [
    "X_train =x_trainpos.append(x_trainneg,ignore_index=True)\n",
    "y_train = np.concatenate((y_trainpos,y_trainneg))\n",
    "X_test = x_testpos.append(x_testneg,ignore_index=True)\n",
    "y_test = np.concatenate((y_testpos,y_testneg))"
   ]
  },
  {
   "cell_type": "code",
   "execution_count": 21,
   "metadata": {
    "colab": {
     "base_uri": "https://localhost:8080/",
     "height": 85
    },
    "colab_type": "code",
    "executionInfo": {
     "elapsed": 190469,
     "status": "ok",
     "timestamp": 1584288976022,
     "user": {
      "displayName": "dhilip vasanth",
      "photoUrl": "https://lh3.googleusercontent.com/a-/AOh14GiPm8uz0B1KKEQqKyUOeAKWkgwaw8k-I6ofmD2xUZo=s64",
      "userId": "13352314856419202111"
     },
     "user_tz": -330
    },
    "id": "8dji5hJeg33Y",
    "outputId": "02076574-73b7-4e4c-a37a-16d5da6ef3ec"
   },
   "outputs": [
    {
     "name": "stdout",
     "output_type": "stream",
     "text": [
      "Data points in train data (15100030, 2)\n",
      "Data points in test data (3775008, 2)\n",
      "Shape of traget variable in train (15100030,)\n",
      "Shape of traget variable in test (3775008,)\n"
     ]
    }
   ],
   "source": [
    "print(\"Data points in train data\",X_train.shape)\n",
    "print(\"Data points in test data\",X_test.shape)\n",
    "print(\"Shape of traget variable in train\",y_train.shape)\n",
    "print(\"Shape of traget variable in test\", y_test.shape)"
   ]
  },
  {
   "cell_type": "markdown",
   "metadata": {
    "colab_type": "text",
    "id": "6P-ipMfpVIa5"
   },
   "source": [
    "# 2.0Feature Engineering"
   ]
  },
  {
   "cell_type": "markdown",
   "metadata": {
    "colab_type": "text",
    "id": "Zw0yIPl4Vhgf"
   },
   "source": [
    "## 2.1Jaccard Distance:\n",
    "\n"
   ]
  },
  {
   "cell_type": "markdown",
   "metadata": {
    "colab_type": "text",
    "id": "nu8v5UY9lous"
   },
   "source": [
    "### 2.1.1jaccard Distance for folllowee"
   ]
  },
  {
   "cell_type": "code",
   "execution_count": 22,
   "metadata": {
    "colab": {
     "base_uri": "https://localhost:8080/",
     "height": 119
    },
    "colab_type": "code",
    "executionInfo": {
     "elapsed": 247399,
     "status": "ok",
     "timestamp": 1584289032961,
     "user": {
      "displayName": "dhilip vasanth",
      "photoUrl": "https://lh3.googleusercontent.com/a-/AOh14GiPm8uz0B1KKEQqKyUOeAKWkgwaw8k-I6ofmD2xUZo=s64",
      "userId": "13352314856419202111"
     },
     "user_tz": -330
    },
    "id": "vDcMlGetjaj3",
    "outputId": "bacbfe12-62db-43fe-c4f3-ae628c61ab2b"
   },
   "outputs": [
    {
     "name": "stdout",
     "output_type": "stream",
     "text": [
      "Name: \n",
      "Type: DiGraph\n",
      "Number of nodes: 1780722\n",
      "Number of edges: 7550015\n",
      "Average in degree:   4.2399\n",
      "Average out degree:   4.2399\n"
     ]
    }
   ],
   "source": [
    "train_graph=nx.read_edgelist('train_pos_after_eda.csv',delimiter=',',create_using=nx.DiGraph(),nodetype=int)\n",
    "print(nx.info(train_graph))"
   ]
  },
  {
   "cell_type": "code",
   "execution_count": 23,
   "metadata": {
    "colab": {},
    "colab_type": "code",
    "id": "c0nXk0lOVbkq"
   },
   "outputs": [],
   "source": [
    "def jaccard_for_followees(a,b):\n",
    "    try:\n",
    "        if len(set(train_graph.successors(a))) == 0  | len(set(train_graph.successors(b))) == 0:\n",
    "            return 0\n",
    "        sim = (len(set(train_graph.successors(a)).intersection(set(train_graph.successors(b)))))/\\\n",
    "                                    (len(set(train_graph.successors(a)).union(set(train_graph.successors(b)))))\n",
    "    except:\n",
    "        return 0\n",
    "    return sim"
   ]
  },
  {
   "cell_type": "code",
   "execution_count": 24,
   "metadata": {
    "colab": {
     "base_uri": "https://localhost:8080/",
     "height": 34
    },
    "colab_type": "code",
    "executionInfo": {
     "elapsed": 247385,
     "status": "ok",
     "timestamp": 1584289032963,
     "user": {
      "displayName": "dhilip vasanth",
      "photoUrl": "https://lh3.googleusercontent.com/a-/AOh14GiPm8uz0B1KKEQqKyUOeAKWkgwaw8k-I6ofmD2xUZo=s64",
      "userId": "13352314856419202111"
     },
     "user_tz": -330
    },
    "id": "58wj554gjHzv",
    "outputId": "75a98951-2b58-4dec-f355-f82c1cda42be"
   },
   "outputs": [
    {
     "data": {
      "text/plain": [
       "0.0"
      ]
     },
     "execution_count": 24,
     "metadata": {},
     "output_type": "execute_result"
    }
   ],
   "source": [
    "jaccard_for_followees(5000,600)"
   ]
  },
  {
   "cell_type": "markdown",
   "metadata": {
    "colab_type": "text",
    "id": "meHKxtKllagP"
   },
   "source": [
    "### 2.1.2jaccard Distance for followers"
   ]
  },
  {
   "cell_type": "code",
   "execution_count": 25,
   "metadata": {
    "colab": {},
    "colab_type": "code",
    "id": "J2u1nWtmkbyV"
   },
   "outputs": [],
   "source": [
    "def jaccard_for_followers(a,b):\n",
    "    try:\n",
    "        if len(set(train_graph.predecessors(a))) == 0  | len(set(g.predecessors(b))) == 0:\n",
    "            return 0\n",
    "        sim = (len(set(train_graph.predecessors(a)).intersection(set(train_graph.predecessors(b)))))/\\\n",
    "                                 (len(set(train_graph.predecessors(a)).union(set(train_graph.predecessors(b)))))\n",
    "        return sim\n",
    "    except:\n",
    "        return 0"
   ]
  },
  {
   "cell_type": "code",
   "execution_count": 26,
   "metadata": {
    "colab": {
     "base_uri": "https://localhost:8080/",
     "height": 34
    },
    "colab_type": "code",
    "executionInfo": {
     "elapsed": 247370,
     "status": "ok",
     "timestamp": 1584289032965,
     "user": {
      "displayName": "dhilip vasanth",
      "photoUrl": "https://lh3.googleusercontent.com/a-/AOh14GiPm8uz0B1KKEQqKyUOeAKWkgwaw8k-I6ofmD2xUZo=s64",
      "userId": "13352314856419202111"
     },
     "user_tz": -330
    },
    "id": "b4-B3ijTmDp9",
    "outputId": "ea993738-ac5d-4623-c0ab-07b7c5f7b0bb"
   },
   "outputs": [
    {
     "data": {
      "text/plain": [
       "0.0"
      ]
     },
     "execution_count": 26,
     "metadata": {},
     "output_type": "execute_result"
    }
   ],
   "source": [
    "jaccard_for_followers(500,700)"
   ]
  },
  {
   "cell_type": "markdown",
   "metadata": {
    "colab_type": "text",
    "id": "v7pqWDHVm1wv"
   },
   "source": [
    "## 2.2Cosine Distance"
   ]
  },
  {
   "cell_type": "markdown",
   "metadata": {
    "colab_type": "text",
    "id": "1vUXYvNmnJLT"
   },
   "source": [
    "### 2.2.1Cosine distance for followees"
   ]
  },
  {
   "cell_type": "code",
   "execution_count": 27,
   "metadata": {
    "colab": {},
    "colab_type": "code",
    "id": "PLOg-FSbmIVC"
   },
   "outputs": [],
   "source": [
    "def cosine_for_followees(a,b):\n",
    "    try:\n",
    "        if len(set(train_graph.successors(a))) == 0  | len(set(train_graph.successors(b))) == 0:\n",
    "            return 0\n",
    "        sim = (len(set(train_graph.successors(a)).intersection(set(train_graph.successors(b)))))/\\\n",
    "                                    (math.sqrt(len(set(train_graph.successors(a)))*len((set(train_graph.successors(b))))))\n",
    "        return sim\n",
    "    except:\n",
    "        return 0"
   ]
  },
  {
   "cell_type": "code",
   "execution_count": 28,
   "metadata": {
    "colab": {
     "base_uri": "https://localhost:8080/",
     "height": 34
    },
    "colab_type": "code",
    "executionInfo": {
     "elapsed": 247356,
     "status": "ok",
     "timestamp": 1584289032966,
     "user": {
      "displayName": "dhilip vasanth",
      "photoUrl": "https://lh3.googleusercontent.com/a-/AOh14GiPm8uz0B1KKEQqKyUOeAKWkgwaw8k-I6ofmD2xUZo=s64",
      "userId": "13352314856419202111"
     },
     "user_tz": -330
    },
    "id": "DxiVXELsnTiJ",
    "outputId": "290fa7a2-c42c-425b-9ba0-0ac2386e5bc1"
   },
   "outputs": [
    {
     "data": {
      "text/plain": [
       "0.0"
      ]
     },
     "execution_count": 28,
     "metadata": {},
     "output_type": "execute_result"
    }
   ],
   "source": [
    "cosine_for_followees(400,500)"
   ]
  },
  {
   "cell_type": "markdown",
   "metadata": {
    "colab_type": "text",
    "id": "JSxfUtXfoSZN"
   },
   "source": [
    "### 2.2.2Cosine Distance for followers"
   ]
  },
  {
   "cell_type": "code",
   "execution_count": 29,
   "metadata": {
    "colab": {},
    "colab_type": "code",
    "id": "_3K4_fctnman"
   },
   "outputs": [],
   "source": [
    "def cosine_for_followers(a,b):\n",
    "    try:\n",
    "        \n",
    "        if len(set(train_graph.predecessors(a))) == 0  | len(set(train_graph.predecessors(b))) == 0:\n",
    "            return 0\n",
    "        sim = (len(set(train_graph.predecessors(a)).intersection(set(train_graph.predecessors(b)))))/\\\n",
    "                                     (math.sqrt(len(set(train_graph.predecessors(a))))*(len(set(train_graph.predecessors(b)))))\n",
    "        return sim\n",
    "    except:\n",
    "        return 0"
   ]
  },
  {
   "cell_type": "code",
   "execution_count": 30,
   "metadata": {
    "colab": {
     "base_uri": "https://localhost:8080/",
     "height": 34
    },
    "colab_type": "code",
    "executionInfo": {
     "elapsed": 247343,
     "status": "ok",
     "timestamp": 1584289032968,
     "user": {
      "displayName": "dhilip vasanth",
      "photoUrl": "https://lh3.googleusercontent.com/a-/AOh14GiPm8uz0B1KKEQqKyUOeAKWkgwaw8k-I6ofmD2xUZo=s64",
      "userId": "13352314856419202111"
     },
     "user_tz": -330
    },
    "id": "Yz2tf4OooeYs",
    "outputId": "e80f012f-eb9e-4a87-b627-359048d20a74"
   },
   "outputs": [
    {
     "data": {
      "text/plain": [
       "0.0"
      ]
     },
     "execution_count": 30,
     "metadata": {},
     "output_type": "execute_result"
    }
   ],
   "source": [
    "cosine_for_followers(4000,60000)"
   ]
  },
  {
   "cell_type": "markdown",
   "metadata": {
    "colab_type": "text",
    "id": "xg2nANH7u9mh"
   },
   "source": [
    "## 2.3Page rank features"
   ]
  },
  {
   "cell_type": "markdown",
   "metadata": {
    "colab_type": "text",
    "id": "7eppxHZwu9pf"
   },
   "source": []
  },
  {
   "cell_type": "code",
   "execution_count": 31,
   "metadata": {
    "colab": {
     "base_uri": "https://localhost:8080/",
     "height": 68
    },
    "colab_type": "code",
    "executionInfo": {
     "elapsed": 346057,
     "status": "ok",
     "timestamp": 1584289131691,
     "user": {
      "displayName": "dhilip vasanth",
      "photoUrl": "https://lh3.googleusercontent.com/a-/AOh14GiPm8uz0B1KKEQqKyUOeAKWkgwaw8k-I6ofmD2xUZo=s64",
      "userId": "13352314856419202111"
     },
     "user_tz": -330
    },
    "id": "voyuJRH_okt-",
    "outputId": "0aa3db3f-59a8-4e83-a479-1872383bb7a1"
   },
   "outputs": [
    {
     "name": "stdout",
     "output_type": "stream",
     "text": [
      "min 1.6556497245737814e-07\n",
      "max 2.7098251341935827e-05\n",
      "mean 5.615699699389075e-07\n"
     ]
    }
   ],
   "source": [
    "pr = nx.pagerank(train_graph, alpha=0.85)\n",
    "print('min',pr[min(pr, key=pr.get)])\n",
    "print('max',pr[max(pr, key=pr.get)])\n",
    "print('mean',float(sum(pr.values())) / len(pr))"
   ]
  },
  {
   "cell_type": "code",
   "execution_count": 32,
   "metadata": {},
   "outputs": [
    {
     "name": "stdout",
     "output_type": "stream",
     "text": [
      "5.615699699389075e-07\n"
     ]
    }
   ],
   "source": [
    "mean_pr = float(sum(pr.values())) / len(pr)\n",
    "print(mean_pr)"
   ]
  },
  {
   "cell_type": "markdown",
   "metadata": {
    "colab_type": "text",
    "id": "Cnhgw44Uy6g2"
   },
   "source": [
    "## 2.4Shortest path"
   ]
  },
  {
   "cell_type": "code",
   "execution_count": 33,
   "metadata": {
    "colab": {},
    "colab_type": "code",
    "id": "uP9MOLFRzA3C"
   },
   "outputs": [],
   "source": [
    "def compute_shortest_path_length(a,b):\n",
    "    p=-1\n",
    "    try:\n",
    "        if train_graph.has_edge(a,b):\n",
    "            train_graph.remove_edge(a,b)\n",
    "            p= nx.shortest_path_length(train_graph,source=a,target=b)\n",
    "            train_graph.add_edge(a,b)\n",
    "        else:\n",
    "            p= nx.shortest_path_length(train_graph,source=a,target=b)\n",
    "        return p\n",
    "    except:\n",
    "        return -1"
   ]
  },
  {
   "cell_type": "markdown",
   "metadata": {
    "colab_type": "text",
    "id": "aXlqO_FE2iqd"
   },
   "source": []
  },
  {
   "cell_type": "code",
   "execution_count": 34,
   "metadata": {
    "colab": {
     "base_uri": "https://localhost:8080/",
     "height": 34
    },
    "colab_type": "code",
    "executionInfo": {
     "elapsed": 346042,
     "status": "ok",
     "timestamp": 1584289131692,
     "user": {
      "displayName": "dhilip vasanth",
      "photoUrl": "https://lh3.googleusercontent.com/a-/AOh14GiPm8uz0B1KKEQqKyUOeAKWkgwaw8k-I6ofmD2xUZo=s64",
      "userId": "13352314856419202111"
     },
     "user_tz": -330
    },
    "id": "p33mH9Tj2SIo",
    "outputId": "5820c4db-87f3-4ae1-86d4-f2125cc5dd9c"
   },
   "outputs": [
    {
     "data": {
      "text/plain": [
       "-1"
      ]
     },
     "execution_count": 34,
     "metadata": {},
     "output_type": "execute_result"
    }
   ],
   "source": [
    "compute_shortest_path_length(30000,600)"
   ]
  },
  {
   "cell_type": "code",
   "execution_count": 35,
   "metadata": {
    "colab": {
     "base_uri": "https://localhost:8080/",
     "height": 34
    },
    "colab_type": "code",
    "executionInfo": {
     "elapsed": 346034,
     "status": "ok",
     "timestamp": 1584289131693,
     "user": {
      "displayName": "dhilip vasanth",
      "photoUrl": "https://lh3.googleusercontent.com/a-/AOh14GiPm8uz0B1KKEQqKyUOeAKWkgwaw8k-I6ofmD2xUZo=s64",
      "userId": "13352314856419202111"
     },
     "user_tz": -330
    },
    "id": "FthlJUqc2ZDC",
    "outputId": "7c9f4348-f3d0-4cd3-f07f-c5739c8d9c5a"
   },
   "outputs": [
    {
     "data": {
      "text/plain": [
       "10"
      ]
     },
     "execution_count": 35,
     "metadata": {},
     "output_type": "execute_result"
    }
   ],
   "source": [
    "compute_shortest_path_length(10999,98)"
   ]
  },
  {
   "cell_type": "markdown",
   "metadata": {
    "colab_type": "text",
    "id": "tZJ8I6EJAXCN"
   },
   "source": [
    "## 2.5Checking for same community"
   ]
  },
  {
   "cell_type": "code",
   "execution_count": 36,
   "metadata": {
    "colab": {},
    "colab_type": "code",
    "id": "dkq8Sznc2tC8"
   },
   "outputs": [],
   "source": [
    "wcc=list(nx.weakly_connected_components(train_graph))\n",
    "def belongs_to_same_wcc(a,b):\n",
    "    index = []\n",
    "    if train_graph.has_edge(b,a):\n",
    "        return 1\n",
    "    if train_graph.has_edge(a,b):\n",
    "            for i in wcc:\n",
    "                if a in i:\n",
    "                    index= i\n",
    "                    break\n",
    "            if (b in index):\n",
    "                train_graph.remove_edge(a,b)\n",
    "                if compute_shortest_path_length(a,b)==-1:\n",
    "                    train_graph.add_edge(a,b)\n",
    "                    return 0\n",
    "                else:\n",
    "                    train_graph.add_edge(a,b)\n",
    "                    return 1\n",
    "            else:\n",
    "                return 0\n",
    "    else:\n",
    "            for i in wcc:\n",
    "                if a in i:\n",
    "                    index= i\n",
    "                    break\n",
    "            if(b in index):\n",
    "                return 1\n",
    "            else:\n",
    "                return 0"
   ]
  },
  {
   "cell_type": "code",
   "execution_count": 37,
   "metadata": {
    "colab": {
     "base_uri": "https://localhost:8080/",
     "height": 34
    },
    "colab_type": "code",
    "executionInfo": {
     "elapsed": 357381,
     "status": "ok",
     "timestamp": 1584289143055,
     "user": {
      "displayName": "dhilip vasanth",
      "photoUrl": "https://lh3.googleusercontent.com/a-/AOh14GiPm8uz0B1KKEQqKyUOeAKWkgwaw8k-I6ofmD2xUZo=s64",
      "userId": "13352314856419202111"
     },
     "user_tz": -330
    },
    "id": "gJsiIQMiAb_X",
    "outputId": "44ef0642-c68b-4dbd-ab9c-790fe822f8b4"
   },
   "outputs": [
    {
     "data": {
      "text/plain": [
       "1"
      ]
     },
     "execution_count": 37,
     "metadata": {},
     "output_type": "execute_result"
    }
   ],
   "source": [
    "belongs_to_same_wcc(3,700)"
   ]
  },
  {
   "cell_type": "code",
   "execution_count": 38,
   "metadata": {
    "colab": {
     "base_uri": "https://localhost:8080/",
     "height": 34
    },
    "colab_type": "code",
    "executionInfo": {
     "elapsed": 357373,
     "status": "ok",
     "timestamp": 1584289143056,
     "user": {
      "displayName": "dhilip vasanth",
      "photoUrl": "https://lh3.googleusercontent.com/a-/AOh14GiPm8uz0B1KKEQqKyUOeAKWkgwaw8k-I6ofmD2xUZo=s64",
      "userId": "13352314856419202111"
     },
     "user_tz": -330
    },
    "id": "VGyXnFgCA1jx",
    "outputId": "3dc55299-7b0c-41df-e171-9c5b126fdf5f"
   },
   "outputs": [
    {
     "data": {
      "text/plain": [
       "0"
      ]
     },
     "execution_count": 38,
     "metadata": {},
     "output_type": "execute_result"
    }
   ],
   "source": [
    "belongs_to_same_wcc(9899000,908980)"
   ]
  },
  {
   "cell_type": "markdown",
   "metadata": {
    "colab_type": "text",
    "id": "3YeMOPQiFWP7"
   },
   "source": [
    " ## 2.6Adamic/Adar Index:"
   ]
  },
  {
   "cell_type": "code",
   "execution_count": 39,
   "metadata": {
    "colab": {},
    "colab_type": "code",
    "id": "zZLg5cZdA81u"
   },
   "outputs": [],
   "source": [
    "def calc_adar_in(a,b):\n",
    "    sum=0\n",
    "    try:\n",
    "        n=list(set(train_graph.successors(a)).intersection(set(train_graph.successors(b))))\n",
    "        if len(n)!=0:\n",
    "            for i in n:\n",
    "                sum=sum+(1/np.log10(len(list(train_graph.predecessors(i)))))\n",
    "            return sum\n",
    "        else:\n",
    "            return 0\n",
    "    except:\n",
    "        return 0"
   ]
  },
  {
   "cell_type": "code",
   "execution_count": 40,
   "metadata": {
    "colab": {
     "base_uri": "https://localhost:8080/",
     "height": 34
    },
    "colab_type": "code",
    "executionInfo": {
     "elapsed": 357359,
     "status": "ok",
     "timestamp": 1584289143058,
     "user": {
      "displayName": "dhilip vasanth",
      "photoUrl": "https://lh3.googleusercontent.com/a-/AOh14GiPm8uz0B1KKEQqKyUOeAKWkgwaw8k-I6ofmD2xUZo=s64",
      "userId": "13352314856419202111"
     },
     "user_tz": -330
    },
    "id": "bYN_J7WZGNbe",
    "outputId": "1a9f0fa6-07d0-4993-bc64-561639340087"
   },
   "outputs": [
    {
     "data": {
      "text/plain": [
       "0"
      ]
     },
     "execution_count": 40,
     "metadata": {},
     "output_type": "execute_result"
    }
   ],
   "source": [
    "calc_adar_in(890,900)"
   ]
  },
  {
   "cell_type": "markdown",
   "metadata": {
    "colab_type": "text",
    "id": "oQaEL5GGHDSi"
   },
   "source": [
    "## 2.7Is person was following back:"
   ]
  },
  {
   "cell_type": "code",
   "execution_count": 41,
   "metadata": {
    "colab": {},
    "colab_type": "code",
    "id": "XaT3UQPtGVLE"
   },
   "outputs": [],
   "source": [
    "def followback(a,b):\n",
    "  if train_graph.has_edge(b,a):\n",
    "    return 1\n",
    "  else:\n",
    "    return 0"
   ]
  },
  {
   "cell_type": "code",
   "execution_count": 42,
   "metadata": {
    "colab": {
     "base_uri": "https://localhost:8080/",
     "height": 34
    },
    "colab_type": "code",
    "executionInfo": {
     "elapsed": 357344,
     "status": "ok",
     "timestamp": 1584289143059,
     "user": {
      "displayName": "dhilip vasanth",
      "photoUrl": "https://lh3.googleusercontent.com/a-/AOh14GiPm8uz0B1KKEQqKyUOeAKWkgwaw8k-I6ofmD2xUZo=s64",
      "userId": "13352314856419202111"
     },
     "user_tz": -330
    },
    "id": "MEQsYxavHhFD",
    "outputId": "6a327d8d-1b6b-4d6b-c635-bca48a05af38"
   },
   "outputs": [
    {
     "data": {
      "text/plain": [
       "0"
      ]
     },
     "execution_count": 42,
     "metadata": {},
     "output_type": "execute_result"
    }
   ],
   "source": [
    "followback(100,9)"
   ]
  },
  {
   "cell_type": "markdown",
   "metadata": {
    "colab_type": "text",
    "id": "tozQHszNH-qx"
   },
   "source": [
    "## 2.8Katz Centrality:"
   ]
  },
  {
   "cell_type": "code",
   "execution_count": 43,
   "metadata": {
    "colab": {
     "base_uri": "https://localhost:8080/",
     "height": 68
    },
    "colab_type": "code",
    "executionInfo": {
     "elapsed": 618710,
     "status": "ok",
     "timestamp": 1584289404434,
     "user": {
      "displayName": "dhilip vasanth",
      "photoUrl": "https://lh3.googleusercontent.com/a-/AOh14GiPm8uz0B1KKEQqKyUOeAKWkgwaw8k-I6ofmD2xUZo=s64",
      "userId": "13352314856419202111"
     },
     "user_tz": -330
    },
    "id": "M2I8K7N9Hk0j",
    "outputId": "e34fdaf3-f35e-4bee-a83a-d7d9000195cc"
   },
   "outputs": [
    {
     "name": "stdout",
     "output_type": "stream",
     "text": [
      "min 0.0007313532484065916\n",
      "max 0.003394554981699122\n",
      "mean 0.0007483800935562018\n"
     ]
    }
   ],
   "source": [
    "katz = nx.katz.katz_centrality(train_graph,alpha=0.005,beta=1)\n",
    "print('min',katz[min(katz, key=katz.get)])\n",
    "print('max',katz[max(katz, key=katz.get)])\n",
    "print('mean',float(sum(katz.values())) / len(katz))"
   ]
  },
  {
   "cell_type": "code",
   "execution_count": 44,
   "metadata": {},
   "outputs": [
    {
     "name": "stdout",
     "output_type": "stream",
     "text": [
      "0.0007483800935562018\n"
     ]
    }
   ],
   "source": [
    "mean_katz = float(sum(katz.values())) / len(katz)\n",
    "print(mean_katz)"
   ]
  },
  {
   "cell_type": "markdown",
   "metadata": {
    "colab_type": "text",
    "id": "zQP7IfqAKHIJ"
   },
   "source": [
    "## 2.9Hits Score"
   ]
  },
  {
   "cell_type": "code",
   "execution_count": 45,
   "metadata": {
    "colab": {},
    "colab_type": "code",
    "id": "7zUOP946QfEa"
   },
   "outputs": [
    {
     "name": "stdout",
     "output_type": "stream",
     "text": [
      "min 0.0\n",
      "max 0.004868653378780953\n",
      "mean 5.615699699344123e-07\n"
     ]
    }
   ],
   "source": [
    "hits = nx.hits(train_graph, max_iter=100, tol=1e-08, nstart=None, normalized=True)\n",
    "print('min',hits[0][min(hits[0], key=hits[0].get)])\n",
    "print('max',hits[0][max(hits[0], key=hits[0].get)])\n",
    "print('mean',float(sum(hits[0].values())) / len(hits[0]))"
   ]
  },
  {
   "cell_type": "markdown",
   "metadata": {
    "colab_type": "text",
    "id": "lm2W2dZ4MNPi"
   },
   "source": [
    "# 3.0Featurization"
   ]
  },
  {
   "cell_type": "markdown",
   "metadata": {
    "colab_type": "text",
    "id": "4rR4L9I0PhW4"
   },
   "source": [
    "## Reading a sample of Data from both train and test"
   ]
  },
  {
   "cell_type": "code",
   "execution_count": 46,
   "metadata": {
    "colab": {},
    "colab_type": "code",
    "id": "-xnB04hOKa34"
   },
   "outputs": [],
   "source": [
    "import random\n",
    "filename = \"data/after_eda/train_after_eda.csv\"\n",
    "n_train =  15100028\n",
    "s = 100000\n",
    "skip_train = sorted(random.sample(range(1,n_train+1),n_train-s))"
   ]
  },
  {
   "cell_type": "code",
   "execution_count": 47,
   "metadata": {},
   "outputs": [],
   "source": [
    "filename = \"data/after_eda/test_after_eda.csv\"\n",
    "n_test = 3775006\n",
    "s = 50000 #desired sample size\n",
    "skip_test = sorted(random.sample(range(1,n_test+1),n_test-s))"
   ]
  },
  {
   "cell_type": "code",
   "execution_count": 48,
   "metadata": {},
   "outputs": [
    {
     "name": "stdout",
     "output_type": "stream",
     "text": [
      "Number of rows in the train data file: 15100028\n",
      "Number of rows we are going to elimiate in train data are 15000028\n",
      "Number of rows in the test data file: 3775006\n",
      "Number of rows we are going to elimiate in test data are 3725006\n"
     ]
    }
   ],
   "source": [
    "print(\"Number of rows in the train data file:\", n_train)\n",
    "print(\"Number of rows we are going to elimiate in train data are\",len(skip_train))\n",
    "print(\"Number of rows in the test data file:\", n_test)\n",
    "print(\"Number of rows we are going to elimiate in test data are\",len(skip_test))"
   ]
  },
  {
   "cell_type": "markdown",
   "metadata": {},
   "source": [
    "## 3.1 Train dataset"
   ]
  },
  {
   "cell_type": "code",
   "execution_count": 49,
   "metadata": {},
   "outputs": [
    {
     "name": "stdout",
     "output_type": "stream",
     "text": [
      "Our train matrix size  (100002, 3)\n"
     ]
    },
    {
     "data": {
      "text/html": [
       "<div>\n",
       "<style scoped>\n",
       "    .dataframe tbody tr th:only-of-type {\n",
       "        vertical-align: middle;\n",
       "    }\n",
       "\n",
       "    .dataframe tbody tr th {\n",
       "        vertical-align: top;\n",
       "    }\n",
       "\n",
       "    .dataframe thead th {\n",
       "        text-align: right;\n",
       "    }\n",
       "</style>\n",
       "<table border=\"1\" class=\"dataframe\">\n",
       "  <thead>\n",
       "    <tr style=\"text-align: right;\">\n",
       "      <th></th>\n",
       "      <th>source_node</th>\n",
       "      <th>destination_node</th>\n",
       "      <th>indicator_link</th>\n",
       "    </tr>\n",
       "  </thead>\n",
       "  <tbody>\n",
       "    <tr>\n",
       "      <th>0</th>\n",
       "      <td>273084</td>\n",
       "      <td>1505602</td>\n",
       "      <td>1</td>\n",
       "    </tr>\n",
       "    <tr>\n",
       "      <th>1</th>\n",
       "      <td>1228116</td>\n",
       "      <td>471233</td>\n",
       "      <td>1</td>\n",
       "    </tr>\n",
       "  </tbody>\n",
       "</table>\n",
       "</div>"
      ],
      "text/plain": [
       "   source_node  destination_node  indicator_link\n",
       "0       273084           1505602               1\n",
       "1      1228116            471233               1"
      ]
     },
     "execution_count": 49,
     "metadata": {},
     "output_type": "execute_result"
    }
   ],
   "source": [
    "df_final_train = pd.read_csv('train_after_eda.csv', skiprows=skip_train, names=['source_node', 'destination_node'])\n",
    "df_final_train['indicator_link'] = pd.read_csv('train_y.csv', skiprows=skip_train, names=['indicator_link'])\n",
    "print(\"Our train matrix size \",df_final_train.shape)\n",
    "df_final_train.head(2)"
   ]
  },
  {
   "cell_type": "markdown",
   "metadata": {},
   "source": [
    "##  3.2 Test dataset"
   ]
  },
  {
   "cell_type": "code",
   "execution_count": 50,
   "metadata": {},
   "outputs": [
    {
     "name": "stdout",
     "output_type": "stream",
     "text": [
      "Our test matrix size  (50002, 3)\n"
     ]
    },
    {
     "data": {
      "text/html": [
       "<div>\n",
       "<style scoped>\n",
       "    .dataframe tbody tr th:only-of-type {\n",
       "        vertical-align: middle;\n",
       "    }\n",
       "\n",
       "    .dataframe tbody tr th {\n",
       "        vertical-align: top;\n",
       "    }\n",
       "\n",
       "    .dataframe thead th {\n",
       "        text-align: right;\n",
       "    }\n",
       "</style>\n",
       "<table border=\"1\" class=\"dataframe\">\n",
       "  <thead>\n",
       "    <tr style=\"text-align: right;\">\n",
       "      <th></th>\n",
       "      <th>source_node</th>\n",
       "      <th>destination_node</th>\n",
       "      <th>indicator_link</th>\n",
       "    </tr>\n",
       "  </thead>\n",
       "  <tbody>\n",
       "    <tr>\n",
       "      <th>0</th>\n",
       "      <td>848424</td>\n",
       "      <td>784690</td>\n",
       "      <td>1</td>\n",
       "    </tr>\n",
       "    <tr>\n",
       "      <th>1</th>\n",
       "      <td>104114</td>\n",
       "      <td>57653</td>\n",
       "      <td>1</td>\n",
       "    </tr>\n",
       "  </tbody>\n",
       "</table>\n",
       "</div>"
      ],
      "text/plain": [
       "   source_node  destination_node  indicator_link\n",
       "0       848424            784690               1\n",
       "1       104114             57653               1"
      ]
     },
     "execution_count": 50,
     "metadata": {},
     "output_type": "execute_result"
    }
   ],
   "source": [
    "df_final_test = pd.read_csv('test_after_eda.csv', skiprows=skip_test, names=['source_node', 'destination_node'])\n",
    "df_final_test['indicator_link'] = pd.read_csv('test_y.csv', skiprows=skip_test, names=['indicator_link'])\n",
    "print(\"Our test matrix size \",df_final_test.shape)\n",
    "df_final_test.head(2)"
   ]
  },
  {
   "cell_type": "markdown",
   "metadata": {},
   "source": [
    "## Adding a set of features\n",
    "\n",
    "__we will create these each of these features for both train and test data points__\n",
    "<ol>\n",
    "<li>jaccard_followers</li>\n",
    "<li>jaccard_followees</li>\n",
    "<li>cosine_followers</li>\n",
    "<li>cosine_followees</li>\n",
    "<li>num_followers_s</li>\n",
    "<li>num_followees_s</li>\n",
    "<li>num_followers_d</li>\n",
    "<li>num_followees_d</li>\n",
    "<li>inter_followers</li>\n",
    "<li>inter_followees</li>\n",
    "<li>adar index</li>\n",
    "<li>is following back</li>\n",
    "<li>belongs to same weakly connect components</li>\n",
    "<li>shortest path between source and destination</li>\n",
    "<li>Weight Features\n",
    "    <ul>\n",
    "        <li>weight of incoming edges</li>\n",
    "        <li>weight of outgoing edges</li>\n",
    "        <li>weight of incoming edges + weight of outgoing edges</li>\n",
    "        <li>weight of incoming edges * weight of outgoing edges</li>\n",
    "        <li>2*weight of incoming edges + weight of outgoing edges</li>\n",
    "        <li>weight of incoming edges + 2*weight of outgoing edges</li>\n",
    "    </ul>\n",
    "</li>\n",
    "<li>Page Ranking of source</li>\n",
    "<li>Page Ranking of dest</li>\n",
    "<li>katz of source</li>\n",
    "<li>katz of dest</li>\n",
    "<li>hubs of source</li>\n",
    "<li>hubs of dest</li>\n",
    "<li>authorities_s of source</li>\n",
    "<li>authorities_s of dest</li>\n",
    "<li>preferential_attachment</li>\n",
    "<li>svd.dot_features</li>\n",
    "<li>SVD features for both source and destination</li>\n",
    "</ol>"
   ]
  },
  {
   "cell_type": "markdown",
   "metadata": {},
   "source": [
    "#### jaccard_followers,jaccard_followees,cosine_followers,cosine_followees,num_followers_s,num_followees_s,num_followers_d,num_followees_d,inter_followers,inter_followees"
   ]
  },
  {
   "cell_type": "code",
   "execution_count": 51,
   "metadata": {},
   "outputs": [],
   "source": [
    "df_final_train['jaccard_followers'] = df_final_train.apply(lambda row:\n",
    "                                            jaccard_for_followers(row['source_node'],row['destination_node']),axis=1)\n",
    "df_final_test['jaccard_followers'] = df_final_test.apply(lambda row:\n",
    "                                            jaccard_for_followers(row['source_node'],row['destination_node']),axis=1)\n",
    "\n",
    "    #mapping jaccrd followees to train and test data\n",
    "df_final_train['jaccard_followees'] = df_final_train.apply(lambda row:\n",
    "                                            jaccard_for_followees(row['source_node'],row['destination_node']),axis=1)\n",
    "df_final_test['jaccard_followees'] = df_final_test.apply(lambda row:\n",
    "                                            jaccard_for_followees(row['source_node'],row['destination_node']),axis=1)\n",
    "    \n",
    "\n",
    "        #mapping jaccrd followers to train and test data\n",
    "df_final_train['cosine_followers'] = df_final_train.apply(lambda row:\n",
    "                                            cosine_for_followers(row['source_node'],row['destination_node']),axis=1)\n",
    "df_final_test['cosine_followers'] = df_final_test.apply(lambda row:\n",
    "                                            cosine_for_followers(row['source_node'],row['destination_node']),axis=1)\n",
    "\n",
    "    #mapping jaccrd followees to train and test data\n",
    "df_final_train['cosine_followees'] = df_final_train.apply(lambda row:\n",
    "                                            cosine_for_followees(row['source_node'],row['destination_node']),axis=1)\n",
    "df_final_test['cosine_followees'] = df_final_test.apply(lambda row:\n",
    "                                            cosine_for_followees(row['source_node'],row['destination_node']),axis=1)"
   ]
  },
  {
   "cell_type": "code",
   "execution_count": 52,
   "metadata": {},
   "outputs": [],
   "source": [
    "def compute_features_stage1(df_final):\n",
    "    #calculating no of followers followees for source and destination\n",
    "    #calculating intersection of followers and followees for source and destination\n",
    "    num_followers_s=[]\n",
    "    num_followees_s=[]\n",
    "    num_followers_d=[]\n",
    "    num_followees_d=[]\n",
    "    inter_followers=[]\n",
    "    inter_followees=[]\n",
    "    for i,row in df_final.iterrows():\n",
    "        try:\n",
    "            s1=set(train_graph.predecessors(row['source_node']))\n",
    "            s2=set(train_graph.successors(row['source_node']))\n",
    "        except:\n",
    "            s1 = set()\n",
    "            s2 = set()\n",
    "        try:\n",
    "            d1=set(train_graph.predecessors(row['destination_node']))\n",
    "            d2=set(train_graph.successors(row['destination_node']))\n",
    "        except:\n",
    "            d1 = set()\n",
    "            d2 = set()\n",
    "        num_followers_s.append(len(s1))\n",
    "        num_followees_s.append(len(s2))\n",
    "\n",
    "        num_followers_d.append(len(d1))\n",
    "        num_followees_d.append(len(d2))\n",
    "\n",
    "        inter_followers.append(len(s1.intersection(d1)))\n",
    "        inter_followees.append(len(s2.intersection(d2)))\n",
    "    \n",
    "    return num_followers_s, num_followers_d, num_followees_s, num_followees_d, inter_followers, inter_followees"
   ]
  },
  {
   "cell_type": "code",
   "execution_count": 53,
   "metadata": {},
   "outputs": [],
   "source": [
    "df_final_train['num_followers_s'], df_final_train['num_followers_d'], \\\n",
    "df_final_train['num_followees_s'], df_final_train['num_followees_d'], \\\n",
    "df_final_train['inter_followers'], df_final_train['inter_followees']= compute_features_stage1(df_final_train)\n",
    "    \n",
    "df_final_test['num_followers_s'], df_final_test['num_followers_d'], \\\n",
    "df_final_test['num_followees_s'], df_final_test['num_followees_d'], \\\n",
    "df_final_test['inter_followers'], df_final_test['inter_followees']= compute_features_stage1(df_final_test)\n",
    "    \n",
    "hdf = HDFStore('storage_sample_stage1.h5')\n",
    "hdf.put('train_df',df_final_train, format='table', data_columns=True)\n",
    "hdf.put('test_df',df_final_test, format='table', data_columns=True)\n",
    "hdf.close()\n",
    "df_final_train = read_hdf('storage_sample_stage1.h5', 'train_df',mode='r')\n",
    "df_final_test = read_hdf('storage_sample_stage1.h5', 'test_df',mode='r')"
   ]
  },
  {
   "cell_type": "markdown",
   "metadata": {},
   "source": [
    "#### adar index,is following back,belongs to same weakly connect components,shortest path between source and destination"
   ]
  },
  {
   "cell_type": "code",
   "execution_count": 54,
   "metadata": {},
   "outputs": [],
   "source": [
    " #mapping adar index on train\n",
    "df_final_train['adar_index'] = df_final_train.apply(lambda row: calc_adar_in(row['source_node'],row['destination_node']),axis=1)\n",
    "    #mapping adar index on test\n",
    "df_final_test['adar_index'] = df_final_test.apply(lambda row: calc_adar_in(row['source_node'],row['destination_node']),axis=1)\n",
    "\n",
    "    #--------------------------------------------------------------------------------------------------------\n",
    "    #mapping followback or not on train\n",
    "df_final_train['follows_back'] = df_final_train.apply(lambda row: followback(row['source_node'],row['destination_node']),axis=1)\n",
    "\n",
    "    #mapping followback or not on test\n",
    "df_final_test['follows_back'] = df_final_test.apply(lambda row: followback(row['source_node'],row['destination_node']),axis=1)\n",
    "\n",
    "    #--------------------------------------------------------------------------------------------------------\n",
    "    #mapping same component of wcc or not on train\n",
    "df_final_train['same_comp'] = df_final_train.apply(lambda row: belongs_to_same_wcc(row['source_node'],row['destination_node']),axis=1)\n",
    "\n",
    "    ##mapping same component of wcc or not on train\n",
    "df_final_test['same_comp'] = df_final_test.apply(lambda row: belongs_to_same_wcc(row['source_node'],row['destination_node']),axis=1)\n",
    "    \n",
    "    #--------------------------------------------------------------------------------------------------------\n",
    "    #mapping shortest path on train \n",
    "df_final_train['shortest_path'] = df_final_train.apply(lambda row: compute_shortest_path_length(row['source_node'],row['destination_node']),axis=1)\n",
    "    #mapping shortest path on test\n",
    "df_final_test['shortest_path'] = df_final_test.apply(lambda row: compute_shortest_path_length(row['source_node'],row['destination_node']),axis=1)\n",
    "\n",
    "hdf = HDFStore('storage_sample_stage2.h5')\n",
    "hdf.put('train_df',df_final_train, format='table', data_columns=True)\n",
    "hdf.put('test_df',df_final_test, format='table', data_columns=True)\n",
    "hdf.close()\n",
    "df_final_train = read_hdf('storage_sample_stage2.h5', 'train_df',mode='r')\n",
    "df_final_test = read_hdf('storage_sample_stage2.h5', 'test_df',mode='r')"
   ]
  },
  {
   "cell_type": "code",
   "execution_count": 55,
   "metadata": {},
   "outputs": [
    {
     "name": "stderr",
     "output_type": "stream",
     "text": [
      "100%|████████████████████████████████████████████████████████████████████| 1780722/1780722 [00:13<00:00, 127491.09it/s]\n"
     ]
    }
   ],
   "source": [
    "#weight for source and destination of each link\n",
    "Weight_in = {}\n",
    "Weight_out = {}\n",
    "for i in  tqdm(train_graph.nodes()):\n",
    "    s1=set(train_graph.predecessors(i))\n",
    "    w_in = 1.0/(np.sqrt(1+len(s1)))\n",
    "    Weight_in[i]=w_in\n",
    "    \n",
    "    s2=set(train_graph.successors(i))\n",
    "    w_out = 1.0/(np.sqrt(1+len(s2)))\n",
    "    Weight_out[i]=w_out\n",
    "    \n",
    "#for imputing with mean\n",
    "mean_weight_in = np.mean(list(Weight_in.values()))\n",
    "mean_weight_out = np.mean(list(Weight_out.values()))"
   ]
  },
  {
   "cell_type": "markdown",
   "metadata": {},
   "source": [
    "#### weight features"
   ]
  },
  {
   "cell_type": "code",
   "execution_count": 56,
   "metadata": {},
   "outputs": [],
   "source": [
    "df_final_train['weight_in'] = df_final_train.destination_node.apply(lambda x: Weight_in.get(x,mean_weight_in))\n",
    "df_final_train['weight_out'] = df_final_train.source_node.apply(lambda x: Weight_out.get(x,mean_weight_out))\n",
    "\n",
    "    #mapping to pandas test\n",
    "df_final_test['weight_in'] = df_final_test.destination_node.apply(lambda x: Weight_in.get(x,mean_weight_in))\n",
    "df_final_test['weight_out'] = df_final_test.source_node.apply(lambda x: Weight_out.get(x,mean_weight_out))\n",
    "\n",
    "\n",
    "    #some features engineerings on the in and out weights\n",
    "df_final_train['weight_f1'] = df_final_train.weight_in + df_final_train.weight_out\n",
    "df_final_train['weight_f2'] = df_final_train.weight_in * df_final_train.weight_out\n",
    "df_final_train['weight_f3'] = (2*df_final_train.weight_in + 1*df_final_train.weight_out)\n",
    "df_final_train['weight_f4'] = (1*df_final_train.weight_in + 2*df_final_train.weight_out)\n",
    "\n",
    "    #some features engineerings on the in and out weights\n",
    "df_final_test['weight_f1'] = df_final_test.weight_in + df_final_test.weight_out\n",
    "df_final_test['weight_f2'] = df_final_test.weight_in * df_final_test.weight_out\n",
    "df_final_test['weight_f3'] = (2*df_final_test.weight_in + 1*df_final_test.weight_out)\n",
    "df_final_test['weight_f4'] = (1*df_final_test.weight_in + 2*df_final_test.weight_out)"
   ]
  },
  {
   "cell_type": "markdown",
   "metadata": {},
   "source": [
    "#### Page Ranking of source,Page Ranking of dest,katz of source,katz of dest,hubs of source,hubs of dest,authorities_s of source,authorities_s of dest "
   ]
  },
  {
   "cell_type": "code",
   "execution_count": 57,
   "metadata": {},
   "outputs": [],
   "source": [
    "df_final_train['page_rank_s'] = df_final_train.source_node.apply(lambda x:pr.get(x,mean_pr))\n",
    "df_final_train['page_rank_d'] = df_final_train.destination_node.apply(lambda x:pr.get(x,mean_pr))\n",
    "\n",
    "df_final_test['page_rank_s'] = df_final_test.source_node.apply(lambda x:pr.get(x,mean_pr))\n",
    "df_final_test['page_rank_d'] = df_final_test.destination_node.apply(lambda x:pr.get(x,mean_pr))\n",
    "    #================================================================================\n",
    "\n",
    "    #Katz centrality score for source and destination in Train and test\n",
    "    #if anything not there in train graph then adding mean katz score\n",
    "df_final_train['katz_s'] = df_final_train.source_node.apply(lambda x: katz.get(x,mean_katz))\n",
    "df_final_train['katz_d'] = df_final_train.destination_node.apply(lambda x: katz.get(x,mean_katz))\n",
    "\n",
    "df_final_test['katz_s'] = df_final_test.source_node.apply(lambda x: katz.get(x,mean_katz))\n",
    "df_final_test['katz_d'] = df_final_test.destination_node.apply(lambda x: katz.get(x,mean_katz))\n",
    "    #================================================================================\n",
    "\n",
    "    #Hits algorithm score for source and destination in Train and test\n",
    "    #if anything not there in train graph then adding 0\n",
    "df_final_train['hubs_s'] = df_final_train.source_node.apply(lambda x: hits[0].get(x,0))\n",
    "df_final_train['hubs_d'] = df_final_train.destination_node.apply(lambda x: hits[0].get(x,0))\n",
    "\n",
    "df_final_test['hubs_s'] = df_final_test.source_node.apply(lambda x: hits[0].get(x,0))\n",
    "df_final_test['hubs_d'] = df_final_test.destination_node.apply(lambda x: hits[0].get(x,0))\n",
    "    #================================================================================\n",
    "\n",
    "    #Hits algorithm score for source and destination in Train and Test\n",
    "    #if anything not there in train graph then adding 0\n",
    "df_final_train['authorities_s'] = df_final_train.source_node.apply(lambda x: hits[1].get(x,0))\n",
    "df_final_train['authorities_d'] = df_final_train.destination_node.apply(lambda x: hits[1].get(x,0))\n",
    "\n",
    "df_final_test['authorities_s'] = df_final_test.source_node.apply(lambda x: hits[1].get(x,0))\n",
    "df_final_test['authorities_d'] = df_final_test.destination_node.apply(lambda x: hits[1].get(x,0))\n",
    "    #================================================================================\n",
    "\n",
    "hdf = HDFStore('storage_sample_stage3.h5')\n",
    "hdf.put('train_df',df_final_train, format='table', data_columns=True)\n",
    "hdf.put('test_df',df_final_test, format='table', data_columns=True)\n",
    "hdf.close()\n",
    "df_final_train = read_hdf('storage_sample_stage3.h5', 'train_df',mode='r')\n",
    "df_final_test = read_hdf('storage_sample_stage3.h5', 'test_df',mode='r')"
   ]
  },
  {
   "cell_type": "markdown",
   "metadata": {},
   "source": [
    "#### SVD features,SVD dot features "
   ]
  },
  {
   "cell_type": "code",
   "execution_count": 58,
   "metadata": {},
   "outputs": [],
   "source": [
    "def svd(x, S):\n",
    "    try:\n",
    "        z = sadj_dict[x]\n",
    "        return S[z]\n",
    "    except:\n",
    "        return [0,0,0,0,0,0]"
   ]
  },
  {
   "cell_type": "code",
   "execution_count": 59,
   "metadata": {},
   "outputs": [],
   "source": [
    "sadj_col = sorted(train_graph.nodes())\n",
    "sadj_dict = { val:idx for idx,val in enumerate(sadj_col)}"
   ]
  },
  {
   "cell_type": "code",
   "execution_count": 60,
   "metadata": {},
   "outputs": [],
   "source": [
    "Adj = nx.adjacency_matrix(train_graph,nodelist=sorted(train_graph.nodes())).asfptype()"
   ]
  },
  {
   "cell_type": "code",
   "execution_count": 61,
   "metadata": {},
   "outputs": [
    {
     "name": "stdout",
     "output_type": "stream",
     "text": [
      "Adjacency matrix Shape (1780722, 1780722)\n",
      "U Shape (1780722, 6)\n",
      "V Shape (6, 1780722)\n",
      "s Shape (6,)\n"
     ]
    }
   ],
   "source": [
    "U, s, V = svds(Adj, k = 6)\n",
    "print('Adjacency matrix Shape',Adj.shape)\n",
    "print('U Shape',U.shape)\n",
    "print('V Shape',V.shape)\n",
    "print('s Shape',s.shape)"
   ]
  },
  {
   "cell_type": "code",
   "execution_count": 62,
   "metadata": {},
   "outputs": [],
   "source": [
    "\n",
    "    #===================================================================================================\n",
    "df_final_train[['svd_u_s_1', 'svd_u_s_2','svd_u_s_3', 'svd_u_s_4', 'svd_u_s_5', 'svd_u_s_6']] = \\\n",
    "df_final_train.source_node.apply(lambda x: svd(x, U)).apply(pd.Series)\n",
    "    \n",
    "df_final_train[['svd_u_d_1', 'svd_u_d_2', 'svd_u_d_3', 'svd_u_d_4', 'svd_u_d_5','svd_u_d_6']] = \\\n",
    "df_final_train.destination_node.apply(lambda x: svd(x, U)).apply(pd.Series)\n",
    "    #===================================================================================================\n",
    "    \n",
    "df_final_train[['svd_v_s_1','svd_v_s_2', 'svd_v_s_3', 'svd_v_s_4', 'svd_v_s_5', 'svd_v_s_6',]] = \\\n",
    "df_final_train.source_node.apply(lambda x: svd(x, V.T)).apply(pd.Series)\n",
    "\n",
    "df_final_train[['svd_v_d_1', 'svd_v_d_2', 'svd_v_d_3', 'svd_v_d_4', 'svd_v_d_5','svd_v_d_6']] = \\\n",
    "df_final_train.destination_node.apply(lambda x: svd(x, V.T)).apply(pd.Series)\n",
    "    #===================================================================================================\n",
    "    \n",
    "df_final_test[['svd_u_s_1', 'svd_u_s_2','svd_u_s_3', 'svd_u_s_4', 'svd_u_s_5', 'svd_u_s_6']] = \\\n",
    "df_final_test.source_node.apply(lambda x: svd(x, U)).apply(pd.Series)\n",
    "    \n",
    "df_final_test[['svd_u_d_1', 'svd_u_d_2', 'svd_u_d_3', 'svd_u_d_4', 'svd_u_d_5','svd_u_d_6']] = \\\n",
    "df_final_test.destination_node.apply(lambda x: svd(x, U)).apply(pd.Series)\n",
    "\n",
    "    #===================================================================================================\n",
    "    \n",
    "df_final_test[['svd_v_s_1','svd_v_s_2', 'svd_v_s_3', 'svd_v_s_4', 'svd_v_s_5', 'svd_v_s_6',]] = \\\n",
    "df_final_test.source_node.apply(lambda x: svd(x, V.T)).apply(pd.Series)\n",
    "\n",
    "df_final_test[['svd_v_d_1', 'svd_v_d_2', 'svd_v_d_3', 'svd_v_d_4', 'svd_v_d_5','svd_v_d_6']] = \\\n",
    "df_final_test.destination_node.apply(lambda x: svd(x, V.T)).apply(pd.Series)\n",
    "    #===================================================================================================\n",
    "\n",
    "hdf = HDFStore('storage_sample_stage4.h5')\n",
    "hdf.put('train_df',df_final_train, format='table', data_columns=True)\n",
    "hdf.put('test_df',df_final_test, format='table', data_columns=True)\n",
    "hdf.close()"
   ]
  },
  {
   "cell_type": "markdown",
   "metadata": {},
   "source": [
    "#### SVD dot train features"
   ]
  },
  {
   "cell_type": "code",
   "execution_count": 63,
   "metadata": {},
   "outputs": [],
   "source": [
    "s1=df_final_train['svd_u_s_1']\n",
    "s2=df_final_train['svd_u_s_2']\n",
    "s3=df_final_train['svd_u_s_3']\n",
    "s4=df_final_train['svd_u_s_4']\n",
    "s5=df_final_train['svd_u_s_5']\n",
    "s6=df_final_train['svd_u_s_6']\n",
    "s7=df_final_train['svd_v_s_1']\n",
    "s8=df_final_train['svd_v_s_2']\n",
    "s9=df_final_train['svd_v_s_3']\n",
    "s10=df_final_train['svd_v_s_4']\n",
    "s11=df_final_train['svd_v_s_5']\n",
    "s12=df_final_train['svd_v_s_6']\n",
    "d1=df_final_train['svd_u_d_1']\n",
    "d2=df_final_train['svd_u_d_2']\n",
    "d3=df_final_train['svd_u_d_3']\n",
    "d4=df_final_train['svd_u_d_4']\n",
    "d5=df_final_train['svd_u_d_5']\n",
    "d6=df_final_train['svd_u_d_6']\n",
    "d7=df_final_train['svd_v_d_1']\n",
    "d8=df_final_train['svd_v_d_2']\n",
    "d9=df_final_train['svd_v_d_3']\n",
    "d10=df_final_train['svd_v_d_4']\n",
    "d11=df_final_train['svd_v_d_5']\n",
    "d12=df_final_train['svd_v_d_6']"
   ]
  },
  {
   "cell_type": "code",
   "execution_count": 64,
   "metadata": {},
   "outputs": [],
   "source": [
    "c=[]\n",
    "for i in range(len(s1)):\n",
    "    a=[]\n",
    "    b=[]\n",
    "    a.append(s1[i])\n",
    "    a.append(s2[i])\n",
    "    a.append(s3[i])\n",
    "    a.append(s4[i])\n",
    "    a.append(s5[i])\n",
    "    a.append(s6[i])\n",
    "    a.append(s7[i])\n",
    "    a.append(s8[i])\n",
    "    a.append(s9[i])\n",
    "    a.append(s10[i])\n",
    "    a.append(s11[i])\n",
    "    a.append(s12[i])\n",
    "    b.append(s1[i])\n",
    "    b.append(s2[i])\n",
    "    b.append(s3[i])\n",
    "    b.append(s4[i])\n",
    "    b.append(s5[i])\n",
    "    b.append(s6[i])\n",
    "    b.append(s7[i])\n",
    "    b.append(s8[i])\n",
    "    b.append(s9[i])\n",
    "    b.append(s10[i])\n",
    "    b.append(s11[i])\n",
    "    b.append(s12[i])\n",
    "    c.append(np.dot(a,b))\n",
    "df_final_train[\"svd_dot\"]=c"
   ]
  },
  {
   "cell_type": "markdown",
   "metadata": {},
   "source": [
    "#### SVD dot test features"
   ]
  },
  {
   "cell_type": "code",
   "execution_count": 65,
   "metadata": {},
   "outputs": [],
   "source": [
    "s1=df_final_test['svd_u_s_1']\n",
    "s2=df_final_test['svd_u_s_2']\n",
    "s3=df_final_test['svd_u_s_3']\n",
    "s4=df_final_test['svd_u_s_4']\n",
    "s5=df_final_test['svd_u_s_5']\n",
    "s6=df_final_test['svd_u_s_6']\n",
    "s7=df_final_test['svd_v_s_1']\n",
    "s8=df_final_test['svd_v_s_2']\n",
    "s9=df_final_test['svd_v_s_3']\n",
    "s10=df_final_test['svd_v_s_4']\n",
    "s11=df_final_test['svd_v_s_5']\n",
    "s12=df_final_test['svd_v_s_6']\n",
    "d1=df_final_test['svd_u_d_1']\n",
    "d2=df_final_test['svd_u_d_2']\n",
    "d3=df_final_test['svd_u_d_3']\n",
    "d4=df_final_test['svd_u_d_4']\n",
    "d5=df_final_test['svd_u_d_5']\n",
    "d6=df_final_test['svd_u_d_6']\n",
    "d7=df_final_test['svd_v_d_1']\n",
    "d8=df_final_test['svd_v_d_2']\n",
    "d9=df_final_test['svd_v_d_3']\n",
    "d10=df_final_test['svd_v_d_4']\n",
    "d11=df_final_test['svd_v_d_5']\n",
    "d12=df_final_test['svd_v_d_6']"
   ]
  },
  {
   "cell_type": "code",
   "execution_count": 66,
   "metadata": {},
   "outputs": [],
   "source": [
    "c=[]\n",
    "for i in range(len(s1)):\n",
    "    a=[]\n",
    "    b=[]\n",
    "    a.append(s1[i])\n",
    "    a.append(s2[i])\n",
    "    a.append(s3[i])\n",
    "    a.append(s4[i])\n",
    "    a.append(s5[i])\n",
    "    a.append(s6[i])\n",
    "    a.append(s7[i])\n",
    "    a.append(s8[i])\n",
    "    a.append(s9[i])\n",
    "    a.append(s10[i])\n",
    "    a.append(s11[i])\n",
    "    a.append(s12[i])\n",
    "    b.append(s1[i])\n",
    "    b.append(s2[i])\n",
    "    b.append(s3[i])\n",
    "    b.append(s4[i])\n",
    "    b.append(s5[i])\n",
    "    b.append(s6[i])\n",
    "    b.append(s7[i])\n",
    "    b.append(s8[i])\n",
    "    b.append(s9[i])\n",
    "    b.append(s10[i])\n",
    "    b.append(s11[i])\n",
    "    b.append(s12[i])\n",
    "    c.append(np.dot(a,b))\n",
    "df_final_test[\"svd_dot\"]=c"
   ]
  },
  {
   "cell_type": "markdown",
   "metadata": {},
   "source": [
    "#### preferential attachment for train set"
   ]
  },
  {
   "cell_type": "code",
   "execution_count": 67,
   "metadata": {},
   "outputs": [],
   "source": [
    "def preferent_attachment(a1,a2):\n",
    "    preferential_follower=a1*a2\n",
    "    return preferential_follower"
   ]
  },
  {
   "cell_type": "code",
   "execution_count": 68,
   "metadata": {},
   "outputs": [],
   "source": [
    "df_final_train[\"preferential_attachment_followers\"]=df_final_train.apply(lambda x: preferent_attachment(x[\"num_followers_s\"],x[\"num_followers_d\"]),axis=1)"
   ]
  },
  {
   "cell_type": "code",
   "execution_count": 69,
   "metadata": {},
   "outputs": [],
   "source": [
    "df_final_train[\"preferential_attachment_followees\"]=df_final_train.apply(lambda x: preferent_attachment(x[\"num_followees_s\"],x[\"num_followees_d\"]),axis=1)\n"
   ]
  },
  {
   "cell_type": "code",
   "execution_count": 70,
   "metadata": {},
   "outputs": [],
   "source": [
    "df_final_test[\"preferential_attachment_followers\"]=df_final_test.apply(lambda x: preferent_attachment(x[\"num_followers_s\"],x[\"num_followers_d\"]),axis=1)"
   ]
  },
  {
   "cell_type": "code",
   "execution_count": 71,
   "metadata": {},
   "outputs": [],
   "source": [
    "df_final_test[\"preferential_attachment_followees\"]=df_final_test.apply(lambda x: preferent_attachment(x[\"num_followees_s\"],x[\"num_followees_d\"]),axis=1)"
   ]
  },
  {
   "cell_type": "code",
   "execution_count": 87,
   "metadata": {},
   "outputs": [
    {
     "data": {
      "text/html": [
       "<div>\n",
       "<style scoped>\n",
       "    .dataframe tbody tr th:only-of-type {\n",
       "        vertical-align: middle;\n",
       "    }\n",
       "\n",
       "    .dataframe tbody tr th {\n",
       "        vertical-align: top;\n",
       "    }\n",
       "\n",
       "    .dataframe thead th {\n",
       "        text-align: right;\n",
       "    }\n",
       "</style>\n",
       "<table border=\"1\" class=\"dataframe\">\n",
       "  <thead>\n",
       "    <tr style=\"text-align: right;\">\n",
       "      <th></th>\n",
       "      <th>source_node</th>\n",
       "      <th>destination_node</th>\n",
       "      <th>jaccard_followers</th>\n",
       "      <th>jaccard_followees</th>\n",
       "      <th>cosine_followers</th>\n",
       "      <th>cosine_followees</th>\n",
       "      <th>num_followers_s</th>\n",
       "      <th>num_followers_d</th>\n",
       "      <th>num_followees_s</th>\n",
       "      <th>num_followees_d</th>\n",
       "      <th>...</th>\n",
       "      <th>svd_v_s_6</th>\n",
       "      <th>svd_v_d_1</th>\n",
       "      <th>svd_v_d_2</th>\n",
       "      <th>svd_v_d_3</th>\n",
       "      <th>svd_v_d_4</th>\n",
       "      <th>svd_v_d_5</th>\n",
       "      <th>svd_v_d_6</th>\n",
       "      <th>svd_dot</th>\n",
       "      <th>preferential_attachment_followers</th>\n",
       "      <th>preferential_attachment_followees</th>\n",
       "    </tr>\n",
       "  </thead>\n",
       "  <tbody>\n",
       "    <tr>\n",
       "      <th>0</th>\n",
       "      <td>273084</td>\n",
       "      <td>1505602</td>\n",
       "      <td>0.000000</td>\n",
       "      <td>0.000000</td>\n",
       "      <td>0.000000</td>\n",
       "      <td>0.000000</td>\n",
       "      <td>11</td>\n",
       "      <td>6</td>\n",
       "      <td>15</td>\n",
       "      <td>8</td>\n",
       "      <td>...</td>\n",
       "      <td>1.719695e-14</td>\n",
       "      <td>-1.355368e-12</td>\n",
       "      <td>4.675314e-13</td>\n",
       "      <td>1.128583e-06</td>\n",
       "      <td>6.616687e-14</td>\n",
       "      <td>9.771075e-13</td>\n",
       "      <td>4.159935e-14</td>\n",
       "      <td>1.127247e-10</td>\n",
       "      <td>66.0</td>\n",
       "      <td>120.0</td>\n",
       "    </tr>\n",
       "    <tr>\n",
       "      <th>1</th>\n",
       "      <td>1228116</td>\n",
       "      <td>471233</td>\n",
       "      <td>0.068966</td>\n",
       "      <td>0.162162</td>\n",
       "      <td>0.022272</td>\n",
       "      <td>0.279751</td>\n",
       "      <td>14</td>\n",
       "      <td>48</td>\n",
       "      <td>23</td>\n",
       "      <td>20</td>\n",
       "      <td>...</td>\n",
       "      <td>1.110805e-16</td>\n",
       "      <td>-1.031744e-14</td>\n",
       "      <td>1.736398e-07</td>\n",
       "      <td>2.623467e-10</td>\n",
       "      <td>2.144795e-14</td>\n",
       "      <td>1.503898e-09</td>\n",
       "      <td>6.347201e-16</td>\n",
       "      <td>2.379574e-15</td>\n",
       "      <td>672.0</td>\n",
       "      <td>460.0</td>\n",
       "    </tr>\n",
       "    <tr>\n",
       "      <th>2</th>\n",
       "      <td>739876</td>\n",
       "      <td>852055</td>\n",
       "      <td>0.000000</td>\n",
       "      <td>0.000000</td>\n",
       "      <td>0.000000</td>\n",
       "      <td>0.000000</td>\n",
       "      <td>1</td>\n",
       "      <td>19</td>\n",
       "      <td>5</td>\n",
       "      <td>0</td>\n",
       "      <td>...</td>\n",
       "      <td>-2.265691e-22</td>\n",
       "      <td>-6.754018e-12</td>\n",
       "      <td>2.936545e-10</td>\n",
       "      <td>1.059854e-10</td>\n",
       "      <td>6.418263e-11</td>\n",
       "      <td>3.186242e-10</td>\n",
       "      <td>3.955842e-13</td>\n",
       "      <td>4.129516e-20</td>\n",
       "      <td>19.0</td>\n",
       "      <td>0.0</td>\n",
       "    </tr>\n",
       "    <tr>\n",
       "      <th>3</th>\n",
       "      <td>1390733</td>\n",
       "      <td>542070</td>\n",
       "      <td>0.000000</td>\n",
       "      <td>0.047619</td>\n",
       "      <td>0.000000</td>\n",
       "      <td>0.097590</td>\n",
       "      <td>6</td>\n",
       "      <td>17</td>\n",
       "      <td>7</td>\n",
       "      <td>15</td>\n",
       "      <td>...</td>\n",
       "      <td>7.321750e-17</td>\n",
       "      <td>-2.401772e-12</td>\n",
       "      <td>5.323082e-10</td>\n",
       "      <td>6.527964e-09</td>\n",
       "      <td>2.251989e-11</td>\n",
       "      <td>1.234854e-11</td>\n",
       "      <td>5.819293e-14</td>\n",
       "      <td>4.078292e-21</td>\n",
       "      <td>102.0</td>\n",
       "      <td>105.0</td>\n",
       "    </tr>\n",
       "    <tr>\n",
       "      <th>4</th>\n",
       "      <td>1069388</td>\n",
       "      <td>33126</td>\n",
       "      <td>0.000000</td>\n",
       "      <td>0.000000</td>\n",
       "      <td>0.000000</td>\n",
       "      <td>0.000000</td>\n",
       "      <td>20</td>\n",
       "      <td>21</td>\n",
       "      <td>25</td>\n",
       "      <td>9</td>\n",
       "      <td>...</td>\n",
       "      <td>2.422041e-10</td>\n",
       "      <td>-1.260282e-11</td>\n",
       "      <td>8.410746e-12</td>\n",
       "      <td>9.007327e-06</td>\n",
       "      <td>3.927170e-12</td>\n",
       "      <td>1.318969e-09</td>\n",
       "      <td>6.983724e-13</td>\n",
       "      <td>1.841166e-10</td>\n",
       "      <td>420.0</td>\n",
       "      <td>225.0</td>\n",
       "    </tr>\n",
       "  </tbody>\n",
       "</table>\n",
       "<p>5 rows × 57 columns</p>\n",
       "</div>"
      ],
      "text/plain": [
       "   source_node  destination_node  jaccard_followers  jaccard_followees  \\\n",
       "0       273084           1505602           0.000000           0.000000   \n",
       "1      1228116            471233           0.068966           0.162162   \n",
       "2       739876            852055           0.000000           0.000000   \n",
       "3      1390733            542070           0.000000           0.047619   \n",
       "4      1069388             33126           0.000000           0.000000   \n",
       "\n",
       "   cosine_followers  cosine_followees  num_followers_s  num_followers_d  \\\n",
       "0          0.000000          0.000000               11                6   \n",
       "1          0.022272          0.279751               14               48   \n",
       "2          0.000000          0.000000                1               19   \n",
       "3          0.000000          0.097590                6               17   \n",
       "4          0.000000          0.000000               20               21   \n",
       "\n",
       "   num_followees_s  num_followees_d                ...                  \\\n",
       "0               15                8                ...                   \n",
       "1               23               20                ...                   \n",
       "2                5                0                ...                   \n",
       "3                7               15                ...                   \n",
       "4               25                9                ...                   \n",
       "\n",
       "      svd_v_s_6     svd_v_d_1     svd_v_d_2     svd_v_d_3     svd_v_d_4  \\\n",
       "0  1.719695e-14 -1.355368e-12  4.675314e-13  1.128583e-06  6.616687e-14   \n",
       "1  1.110805e-16 -1.031744e-14  1.736398e-07  2.623467e-10  2.144795e-14   \n",
       "2 -2.265691e-22 -6.754018e-12  2.936545e-10  1.059854e-10  6.418263e-11   \n",
       "3  7.321750e-17 -2.401772e-12  5.323082e-10  6.527964e-09  2.251989e-11   \n",
       "4  2.422041e-10 -1.260282e-11  8.410746e-12  9.007327e-06  3.927170e-12   \n",
       "\n",
       "      svd_v_d_5     svd_v_d_6       svd_dot  \\\n",
       "0  9.771075e-13  4.159935e-14  1.127247e-10   \n",
       "1  1.503898e-09  6.347201e-16  2.379574e-15   \n",
       "2  3.186242e-10  3.955842e-13  4.129516e-20   \n",
       "3  1.234854e-11  5.819293e-14  4.078292e-21   \n",
       "4  1.318969e-09  6.983724e-13  1.841166e-10   \n",
       "\n",
       "   preferential_attachment_followers  preferential_attachment_followees  \n",
       "0                               66.0                              120.0  \n",
       "1                              672.0                              460.0  \n",
       "2                               19.0                                0.0  \n",
       "3                              102.0                              105.0  \n",
       "4                              420.0                              225.0  \n",
       "\n",
       "[5 rows x 57 columns]"
      ]
     },
     "execution_count": 87,
     "metadata": {},
     "output_type": "execute_result"
    }
   ],
   "source": [
    "df_train=df_final_train.drop(\"indicator_link\",axis=1)\n",
    "df_train.head()"
   ]
  },
  {
   "cell_type": "code",
   "execution_count": 91,
   "metadata": {},
   "outputs": [
    {
     "data": {
      "text/html": [
       "<div>\n",
       "<style scoped>\n",
       "    .dataframe tbody tr th:only-of-type {\n",
       "        vertical-align: middle;\n",
       "    }\n",
       "\n",
       "    .dataframe tbody tr th {\n",
       "        vertical-align: top;\n",
       "    }\n",
       "\n",
       "    .dataframe thead th {\n",
       "        text-align: right;\n",
       "    }\n",
       "</style>\n",
       "<table border=\"1\" class=\"dataframe\">\n",
       "  <thead>\n",
       "    <tr style=\"text-align: right;\">\n",
       "      <th></th>\n",
       "      <th>source_node</th>\n",
       "      <th>destination_node</th>\n",
       "      <th>jaccard_followers</th>\n",
       "      <th>jaccard_followees</th>\n",
       "      <th>cosine_followers</th>\n",
       "      <th>cosine_followees</th>\n",
       "      <th>num_followers_s</th>\n",
       "      <th>num_followers_d</th>\n",
       "      <th>num_followees_s</th>\n",
       "      <th>num_followees_d</th>\n",
       "      <th>...</th>\n",
       "      <th>svd_v_s_6</th>\n",
       "      <th>svd_v_d_1</th>\n",
       "      <th>svd_v_d_2</th>\n",
       "      <th>svd_v_d_3</th>\n",
       "      <th>svd_v_d_4</th>\n",
       "      <th>svd_v_d_5</th>\n",
       "      <th>svd_v_d_6</th>\n",
       "      <th>svd_dot</th>\n",
       "      <th>preferential_attachment_followers</th>\n",
       "      <th>preferential_attachment_followees</th>\n",
       "    </tr>\n",
       "  </thead>\n",
       "  <tbody>\n",
       "    <tr>\n",
       "      <th>0</th>\n",
       "      <td>848424</td>\n",
       "      <td>784690</td>\n",
       "      <td>0.052632</td>\n",
       "      <td>0.0</td>\n",
       "      <td>0.029161</td>\n",
       "      <td>0.0</td>\n",
       "      <td>6</td>\n",
       "      <td>14</td>\n",
       "      <td>6</td>\n",
       "      <td>9</td>\n",
       "      <td>...</td>\n",
       "      <td>5.535503e-14</td>\n",
       "      <td>-9.994076e-10</td>\n",
       "      <td>5.791913e-10</td>\n",
       "      <td>3.512350e-07</td>\n",
       "      <td>2.486660e-09</td>\n",
       "      <td>2.771146e-09</td>\n",
       "      <td>1.727671e-12</td>\n",
       "      <td>2.432749e-20</td>\n",
       "      <td>84.0</td>\n",
       "      <td>54.0</td>\n",
       "    </tr>\n",
       "    <tr>\n",
       "      <th>1</th>\n",
       "      <td>104114</td>\n",
       "      <td>57653</td>\n",
       "      <td>0.000000</td>\n",
       "      <td>0.0</td>\n",
       "      <td>0.000000</td>\n",
       "      <td>0.0</td>\n",
       "      <td>5</td>\n",
       "      <td>1</td>\n",
       "      <td>5</td>\n",
       "      <td>1</td>\n",
       "      <td>...</td>\n",
       "      <td>6.464185e-14</td>\n",
       "      <td>-1.039987e-13</td>\n",
       "      <td>4.101965e-13</td>\n",
       "      <td>7.984390e-06</td>\n",
       "      <td>4.688540e-14</td>\n",
       "      <td>2.855356e-13</td>\n",
       "      <td>2.813433e-14</td>\n",
       "      <td>3.451460e-13</td>\n",
       "      <td>5.0</td>\n",
       "      <td>5.0</td>\n",
       "    </tr>\n",
       "    <tr>\n",
       "      <th>2</th>\n",
       "      <td>1023305</td>\n",
       "      <td>1027793</td>\n",
       "      <td>0.000000</td>\n",
       "      <td>0.0</td>\n",
       "      <td>0.000000</td>\n",
       "      <td>0.0</td>\n",
       "      <td>21</td>\n",
       "      <td>49</td>\n",
       "      <td>19</td>\n",
       "      <td>33</td>\n",
       "      <td>...</td>\n",
       "      <td>2.564540e-10</td>\n",
       "      <td>-2.775532e-09</td>\n",
       "      <td>5.787856e-10</td>\n",
       "      <td>1.656781e-08</td>\n",
       "      <td>5.166967e-10</td>\n",
       "      <td>2.848540e-10</td>\n",
       "      <td>9.931389e-10</td>\n",
       "      <td>3.871546e-17</td>\n",
       "      <td>1029.0</td>\n",
       "      <td>627.0</td>\n",
       "    </tr>\n",
       "    <tr>\n",
       "      <th>3</th>\n",
       "      <td>673331</td>\n",
       "      <td>482741</td>\n",
       "      <td>0.000000</td>\n",
       "      <td>0.0</td>\n",
       "      <td>0.000000</td>\n",
       "      <td>0.0</td>\n",
       "      <td>11</td>\n",
       "      <td>5</td>\n",
       "      <td>13</td>\n",
       "      <td>11</td>\n",
       "      <td>...</td>\n",
       "      <td>3.114235e-16</td>\n",
       "      <td>-1.820043e-13</td>\n",
       "      <td>4.019880e-14</td>\n",
       "      <td>1.080250e-12</td>\n",
       "      <td>1.489487e-13</td>\n",
       "      <td>2.073316e-11</td>\n",
       "      <td>2.590965e-14</td>\n",
       "      <td>3.796558e-22</td>\n",
       "      <td>55.0</td>\n",
       "      <td>143.0</td>\n",
       "    </tr>\n",
       "    <tr>\n",
       "      <th>4</th>\n",
       "      <td>1810926</td>\n",
       "      <td>68478</td>\n",
       "      <td>0.000000</td>\n",
       "      <td>0.0</td>\n",
       "      <td>0.000000</td>\n",
       "      <td>0.0</td>\n",
       "      <td>1</td>\n",
       "      <td>2</td>\n",
       "      <td>0</td>\n",
       "      <td>4</td>\n",
       "      <td>...</td>\n",
       "      <td>1.220036e-14</td>\n",
       "      <td>-8.875337e-14</td>\n",
       "      <td>6.121848e-16</td>\n",
       "      <td>4.764359e-12</td>\n",
       "      <td>2.649267e-12</td>\n",
       "      <td>6.202674e-14</td>\n",
       "      <td>2.242097e-14</td>\n",
       "      <td>1.558595e-28</td>\n",
       "      <td>2.0</td>\n",
       "      <td>0.0</td>\n",
       "    </tr>\n",
       "  </tbody>\n",
       "</table>\n",
       "<p>5 rows × 57 columns</p>\n",
       "</div>"
      ],
      "text/plain": [
       "   source_node  destination_node  jaccard_followers  jaccard_followees  \\\n",
       "0       848424            784690           0.052632                0.0   \n",
       "1       104114             57653           0.000000                0.0   \n",
       "2      1023305           1027793           0.000000                0.0   \n",
       "3       673331            482741           0.000000                0.0   \n",
       "4      1810926             68478           0.000000                0.0   \n",
       "\n",
       "   cosine_followers  cosine_followees  num_followers_s  num_followers_d  \\\n",
       "0          0.029161               0.0                6               14   \n",
       "1          0.000000               0.0                5                1   \n",
       "2          0.000000               0.0               21               49   \n",
       "3          0.000000               0.0               11                5   \n",
       "4          0.000000               0.0                1                2   \n",
       "\n",
       "   num_followees_s  num_followees_d                ...                  \\\n",
       "0                6                9                ...                   \n",
       "1                5                1                ...                   \n",
       "2               19               33                ...                   \n",
       "3               13               11                ...                   \n",
       "4                0                4                ...                   \n",
       "\n",
       "      svd_v_s_6     svd_v_d_1     svd_v_d_2     svd_v_d_3     svd_v_d_4  \\\n",
       "0  5.535503e-14 -9.994076e-10  5.791913e-10  3.512350e-07  2.486660e-09   \n",
       "1  6.464185e-14 -1.039987e-13  4.101965e-13  7.984390e-06  4.688540e-14   \n",
       "2  2.564540e-10 -2.775532e-09  5.787856e-10  1.656781e-08  5.166967e-10   \n",
       "3  3.114235e-16 -1.820043e-13  4.019880e-14  1.080250e-12  1.489487e-13   \n",
       "4  1.220036e-14 -8.875337e-14  6.121848e-16  4.764359e-12  2.649267e-12   \n",
       "\n",
       "      svd_v_d_5     svd_v_d_6       svd_dot  \\\n",
       "0  2.771146e-09  1.727671e-12  2.432749e-20   \n",
       "1  2.855356e-13  2.813433e-14  3.451460e-13   \n",
       "2  2.848540e-10  9.931389e-10  3.871546e-17   \n",
       "3  2.073316e-11  2.590965e-14  3.796558e-22   \n",
       "4  6.202674e-14  2.242097e-14  1.558595e-28   \n",
       "\n",
       "   preferential_attachment_followers  preferential_attachment_followees  \n",
       "0                               84.0                               54.0  \n",
       "1                                5.0                                5.0  \n",
       "2                             1029.0                              627.0  \n",
       "3                               55.0                              143.0  \n",
       "4                                2.0                                0.0  \n",
       "\n",
       "[5 rows x 57 columns]"
      ]
     },
     "execution_count": 91,
     "metadata": {},
     "output_type": "execute_result"
    }
   ],
   "source": [
    "df_test=df_final_test.drop(\"indicator_link\",axis=1)\n",
    "df_test.head()"
   ]
  },
  {
   "cell_type": "code",
   "execution_count": 100,
   "metadata": {},
   "outputs": [
    {
     "data": {
      "text/plain": [
       "(100002, 57)"
      ]
     },
     "execution_count": 100,
     "metadata": {},
     "output_type": "execute_result"
    }
   ],
   "source": [
    "df_train.shape"
   ]
  },
  {
   "cell_type": "code",
   "execution_count": 115,
   "metadata": {},
   "outputs": [
    {
     "data": {
      "text/plain": [
       "(50002, 57)"
      ]
     },
     "execution_count": 115,
     "metadata": {},
     "output_type": "execute_result"
    }
   ],
   "source": [
    "df_test.shape"
   ]
  },
  {
   "cell_type": "code",
   "execution_count": 139,
   "metadata": {},
   "outputs": [
    {
     "ename": "ValueError",
     "evalue": "Found input variables with inconsistent numbers of samples: [100002, 70001]",
     "output_type": "error",
     "traceback": [
      "\u001b[1;31m---------------------------------------------------------------------------\u001b[0m",
      "\u001b[1;31mValueError\u001b[0m                                Traceback (most recent call last)",
      "\u001b[1;32m<ipython-input-139-d910e3b17991>\u001b[0m in \u001b[0;36m<module>\u001b[1;34m()\u001b[0m\n\u001b[1;32m----> 1\u001b[1;33m \u001b[0mX_train\u001b[0m\u001b[1;33m,\u001b[0m\u001b[0mX_cv\u001b[0m\u001b[1;33m,\u001b[0m\u001b[0my_train\u001b[0m\u001b[1;33m,\u001b[0m\u001b[0my_test\u001b[0m\u001b[1;33m=\u001b[0m\u001b[0mtrain_test_split\u001b[0m\u001b[1;33m(\u001b[0m\u001b[0mdf_train\u001b[0m\u001b[1;33m,\u001b[0m\u001b[0my_train\u001b[0m\u001b[1;33m,\u001b[0m\u001b[0mtest_size\u001b[0m\u001b[1;33m=\u001b[0m\u001b[1;36m0.4\u001b[0m\u001b[1;33m)\u001b[0m\u001b[1;33m\u001b[0m\u001b[0m\n\u001b[0m",
      "\u001b[1;32m~\\Anaconda3\\lib\\site-packages\\sklearn\\model_selection\\_split.py\u001b[0m in \u001b[0;36mtrain_test_split\u001b[1;34m(*arrays, **options)\u001b[0m\n\u001b[0;32m   2116\u001b[0m         \u001b[1;32mraise\u001b[0m \u001b[0mTypeError\u001b[0m\u001b[1;33m(\u001b[0m\u001b[1;34m\"Invalid parameters passed: %s\"\u001b[0m \u001b[1;33m%\u001b[0m \u001b[0mstr\u001b[0m\u001b[1;33m(\u001b[0m\u001b[0moptions\u001b[0m\u001b[1;33m)\u001b[0m\u001b[1;33m)\u001b[0m\u001b[1;33m\u001b[0m\u001b[0m\n\u001b[0;32m   2117\u001b[0m \u001b[1;33m\u001b[0m\u001b[0m\n\u001b[1;32m-> 2118\u001b[1;33m     \u001b[0marrays\u001b[0m \u001b[1;33m=\u001b[0m \u001b[0mindexable\u001b[0m\u001b[1;33m(\u001b[0m\u001b[1;33m*\u001b[0m\u001b[0marrays\u001b[0m\u001b[1;33m)\u001b[0m\u001b[1;33m\u001b[0m\u001b[0m\n\u001b[0m\u001b[0;32m   2119\u001b[0m \u001b[1;33m\u001b[0m\u001b[0m\n\u001b[0;32m   2120\u001b[0m     \u001b[0mn_samples\u001b[0m \u001b[1;33m=\u001b[0m \u001b[0m_num_samples\u001b[0m\u001b[1;33m(\u001b[0m\u001b[0marrays\u001b[0m\u001b[1;33m[\u001b[0m\u001b[1;36m0\u001b[0m\u001b[1;33m]\u001b[0m\u001b[1;33m)\u001b[0m\u001b[1;33m\u001b[0m\u001b[0m\n",
      "\u001b[1;32m~\\Anaconda3\\lib\\site-packages\\sklearn\\utils\\validation.py\u001b[0m in \u001b[0;36mindexable\u001b[1;34m(*iterables)\u001b[0m\n\u001b[0;32m    246\u001b[0m     \"\"\"\n\u001b[0;32m    247\u001b[0m     \u001b[0mresult\u001b[0m \u001b[1;33m=\u001b[0m \u001b[1;33m[\u001b[0m\u001b[0m_make_indexable\u001b[0m\u001b[1;33m(\u001b[0m\u001b[0mX\u001b[0m\u001b[1;33m)\u001b[0m \u001b[1;32mfor\u001b[0m \u001b[0mX\u001b[0m \u001b[1;32min\u001b[0m \u001b[0miterables\u001b[0m\u001b[1;33m]\u001b[0m\u001b[1;33m\u001b[0m\u001b[0m\n\u001b[1;32m--> 248\u001b[1;33m     \u001b[0mcheck_consistent_length\u001b[0m\u001b[1;33m(\u001b[0m\u001b[1;33m*\u001b[0m\u001b[0mresult\u001b[0m\u001b[1;33m)\u001b[0m\u001b[1;33m\u001b[0m\u001b[0m\n\u001b[0m\u001b[0;32m    249\u001b[0m     \u001b[1;32mreturn\u001b[0m \u001b[0mresult\u001b[0m\u001b[1;33m\u001b[0m\u001b[0m\n\u001b[0;32m    250\u001b[0m \u001b[1;33m\u001b[0m\u001b[0m\n",
      "\u001b[1;32m~\\Anaconda3\\lib\\site-packages\\sklearn\\utils\\validation.py\u001b[0m in \u001b[0;36mcheck_consistent_length\u001b[1;34m(*arrays)\u001b[0m\n\u001b[0;32m    210\u001b[0m     \u001b[1;32mif\u001b[0m \u001b[0mlen\u001b[0m\u001b[1;33m(\u001b[0m\u001b[0muniques\u001b[0m\u001b[1;33m)\u001b[0m \u001b[1;33m>\u001b[0m \u001b[1;36m1\u001b[0m\u001b[1;33m:\u001b[0m\u001b[1;33m\u001b[0m\u001b[0m\n\u001b[0;32m    211\u001b[0m         raise ValueError(\"Found input variables with inconsistent numbers of\"\n\u001b[1;32m--> 212\u001b[1;33m                          \" samples: %r\" % [int(l) for l in lengths])\n\u001b[0m\u001b[0;32m    213\u001b[0m \u001b[1;33m\u001b[0m\u001b[0m\n\u001b[0;32m    214\u001b[0m \u001b[1;33m\u001b[0m\u001b[0m\n",
      "\u001b[1;31mValueError\u001b[0m: Found input variables with inconsistent numbers of samples: [100002, 70001]"
     ]
    }
   ],
   "source": [
    "X_train,X_cv,y_train,y_t=train_test_split(df_train,y_train,test_size=0.4)"
   ]
  },
  {
   "cell_type": "code",
   "execution_count": 133,
   "metadata": {},
   "outputs": [
    {
     "data": {
      "text/plain": [
       "(30001, 57)"
      ]
     },
     "execution_count": 133,
     "metadata": {},
     "output_type": "execute_result"
    }
   ],
   "source": [
    "X_cv.shape"
   ]
  },
  {
   "cell_type": "code",
   "execution_count": 134,
   "metadata": {},
   "outputs": [
    {
     "ename": "NameError",
     "evalue": "name 'y_cv' is not defined",
     "output_type": "error",
     "traceback": [
      "\u001b[1;31m---------------------------------------------------------------------------\u001b[0m",
      "\u001b[1;31mNameError\u001b[0m                                 Traceback (most recent call last)",
      "\u001b[1;32m<ipython-input-134-30ad16b66a38>\u001b[0m in \u001b[0;36m<module>\u001b[1;34m()\u001b[0m\n\u001b[1;32m----> 1\u001b[1;33m \u001b[0my_cv\u001b[0m\u001b[1;33m\u001b[0m\u001b[0m\n\u001b[0m",
      "\u001b[1;31mNameError\u001b[0m: name 'y_cv' is not defined"
     ]
    }
   ],
   "source": [
    "y_cv"
   ]
  },
  {
   "cell_type": "markdown",
   "metadata": {},
   "source": [
    "# Model implementation"
   ]
  },
  {
   "cell_type": "markdown",
   "metadata": {},
   "source": [
    "## Hyper-parameter tuning using estimator in RandomForest"
   ]
  },
  {
   "cell_type": "code",
   "execution_count": 141,
   "metadata": {},
   "outputs": [],
   "source": [
    "y_train = df_final_train.indicator_link\n",
    "y_test = df_final_test.indicator_link"
   ]
  },
  {
   "cell_type": "code",
   "execution_count": 77,
   "metadata": {},
   "outputs": [],
   "source": [
    "from sklearn.metrics import confusion_matrix\n",
    "def plot_confusion_matrix(test_y, predict_y):\n",
    "    C = confusion_matrix(test_y, predict_y)\n",
    "    \n",
    "    A =(((C.T)/(C.sum(axis=1))).T)\n",
    "    \n",
    "    B =(C/C.sum(axis=0))\n",
    "    plt.figure(figsize=(20,4))\n",
    "    \n",
    "    labels = [0,1]\n",
    "    # representing A in heatmap format\n",
    "    cmap=sns.light_palette(\"blue\")\n",
    "    plt.subplot(1, 3, 1)\n",
    "    sns.heatmap(C, annot=True, cmap=cmap, fmt=\".3f\", xticklabels=labels, yticklabels=labels)\n",
    "    plt.xlabel('Predicted Class')\n",
    "    plt.ylabel('Original Class')\n",
    "    plt.title(\"Confusion matrix\")\n",
    "    \n",
    "    plt.subplot(1, 3, 2)\n",
    "    sns.heatmap(B, annot=True, cmap=cmap, fmt=\".3f\", xticklabels=labels, yticklabels=labels)\n",
    "    plt.xlabel('Predicted Class')\n",
    "    plt.ylabel('Original Class')\n",
    "    plt.title(\"Precision matrix\")\n",
    "    \n",
    "    plt.subplot(1, 3, 3)\n",
    "    # representing B in heatmap format\n",
    "    sns.heatmap(A, annot=True, cmap=cmap, fmt=\".3f\", xticklabels=labels, yticklabels=labels)\n",
    "    plt.xlabel('Predicted Class')\n",
    "    plt.ylabel('Original Class')\n",
    "    plt.title(\"Recall matrix\")\n",
    "    \n",
    "    plt.show()"
   ]
  },
  {
   "cell_type": "code",
   "execution_count": 95,
   "metadata": {},
   "outputs": [
    {
     "name": "stdout",
     "output_type": "stream",
     "text": [
      "Estimators =  10 Train Score 0.9278851670648126 test Score 0.9210326178806827\n",
      "Estimators =  50 Train Score 0.9251594510513885 test Score 0.8979390296264491\n",
      "Estimators =  100 Train Score 0.9225436664126202 test Score 0.9127032929751278\n",
      "Estimators =  250 Train Score 0.9221816664928564 test Score 0.9133618318025988\n",
      "Estimators =  400 Train Score 0.9221367040026698 test Score 0.9149677828245484\n"
     ]
    },
    {
     "data": {
      "text/plain": [
       "Text(0.5, 1.0, 'Estimators vs score at depth of 5')"
      ]
     },
     "execution_count": 95,
     "metadata": {},
     "output_type": "execute_result"
    },
    {
     "data": {
      "image/png": "[encoded data removed]",
      "text/plain": [
       "<Figure size 432x288 with 1 Axes>"
      ]
     },
     "metadata": {},
     "output_type": "display_data"
    }
   ],
   "source": [
    "estimator=[10,50,100,250,400]\n",
    "train_scores=[]\n",
    "test_scores=[]\n",
    "for i in estimator:\n",
    "    clf=RandomForestClassifier(bootstrap=True, class_weight=None, criterion='gini',\n",
    "            max_depth=5, max_features='auto', max_leaf_nodes=None,\n",
    "            min_impurity_decrease=0.0, min_impurity_split=None,\n",
    "            min_samples_leaf=52, min_samples_split=120,\n",
    "            min_weight_fraction_leaf=0.0, n_estimators=i, n_jobs=-1,random_state=25,verbose=0,warm_start=False)\n",
    "    train=clf.fit(df_train,y_train)\n",
    "    train_predict=clf.predict(df_train)\n",
    "    test_predict=clf.predict(df_test)\n",
    "    train_scr=f1_score(y_train,train_predict)\n",
    "    test_scr=f1_score(y_test,test_predict)\n",
    "    test_scores.append(test_scr)\n",
    "    train_scores.append(train_scr)\n",
    "    print('Estimators = ',i,'Train Score',train_scr,'test Score',test_scr)\n",
    "plt.plot(estimator,train_scores,label='Train Score')\n",
    "plt.plot(estimator,test_scores,label='Test Score')\n",
    "plt.xlabel('Estimators')\n",
    "plt.ylabel('Score')\n",
    "plt.title('Estimators vs score at depth of 5')"
   ]
  },
  {
   "cell_type": "code",
   "execution_count": 96,
   "metadata": {},
   "outputs": [
    {
     "name": "stdout",
     "output_type": "stream",
     "text": [
      "depth =  3 Train Score 0.8962430489624305 test Score 0.8694771762779775\n",
      "depth =  9 Train Score 0.9586830672811809 test Score 0.9225882950791903\n",
      "depth =  11 Train Score 0.9631400838922775 test Score 0.9229011509817197\n",
      "depth =  15 Train Score 0.9651345302832376 test Score 0.9240144734336316\n",
      "depth =  20 Train Score 0.9648164844850118 test Score 0.9235784749566027\n",
      "depth =  35 Train Score 0.9648257492125545 test Score 0.9235783369664134\n",
      "depth =  50 Train Score 0.9648257492125545 test Score 0.9235783369664134\n",
      "depth =  70 Train Score 0.9648257492125545 test Score 0.9235783369664134\n",
      "depth =  130 Train Score 0.9648257492125545 test Score 0.9235783369664134\n"
     ]
    },
    {
     "data": {
      "image/png": "[encoded data removed]",
      "text/plain": [
       "<Figure size 432x288 with 1 Axes>"
      ]
     },
     "metadata": {},
     "output_type": "display_data"
    }
   ],
   "source": [
    "depths = [3,9,11,15,20,35,50,70,130]\n",
    "train_scores = []\n",
    "test_scores = []\n",
    "for i in depths:\n",
    "    clf = RandomForestClassifier(bootstrap=True, class_weight=None, criterion='gini',\n",
    "            max_depth=i, max_features='auto', max_leaf_nodes=None,\n",
    "            min_impurity_decrease=0.0, min_impurity_split=None,\n",
    "            min_samples_leaf=52, min_samples_split=120,\n",
    "            min_weight_fraction_leaf=0.0, n_estimators=115, n_jobs=-1,random_state=25,verbose=0,warm_start=False)\n",
    "    clf.fit(df_train,y_train)\n",
    "    train_sc = f1_score(y_train,clf.predict(df_train))\n",
    "    test_sc = f1_score(y_test,clf.predict(df_test))\n",
    "    test_scores.append(test_sc)\n",
    "    train_scores.append(train_sc)\n",
    "    print('depth = ',i,'Train Score',train_sc,'test Score',test_sc)\n",
    "plt.plot(depths,train_scores,label='Train Score')\n",
    "plt.plot(depths,test_scores,label='Test Score')\n",
    "plt.xlabel('Depth')\n",
    "plt.ylabel('Score')\n",
    "plt.title('Depth vs score at depth of 5 at estimators = 115')\n",
    "plt.show()"
   ]
  },
  {
   "cell_type": "markdown",
   "metadata": {},
   "source": [
    "## Random model in RandomForest assigning both estimator and depth in hyperparamter tuning  "
   ]
  },
  {
   "cell_type": "code",
   "execution_count": 101,
   "metadata": {},
   "outputs": [
    {
     "name": "stdout",
     "output_type": "stream",
     "text": [
      "mean test scores [1. 1. 1. 1. 1.]\n"
     ]
    }
   ],
   "source": [
    "param_dist = {\"n_estimators\":sp_randint(105,125),\n",
    "              \"max_depth\": sp_randint(10,15),\n",
    "              \"min_samples_split\": sp_randint(110,190),\n",
    "              \"min_samples_leaf\": sp_randint(25,65)}\n",
    "clf=RandomForestClassifier(random_state=25,n_jobs=1)\n",
    "rf_random=RandomizedSearchCV(clf,param_distributions=param_dist,\n",
    "                                   n_iter=5,cv=10,scoring='f1',random_state=25)\n",
    "rf_random.fit(df_final_train,y_train)\n",
    "print('mean test scores',rf_random.cv_results_['mean_test_score'])\n",
    "#print('mean train scores',rf_random.cv_results_['mean_train_score'])"
   ]
  },
  {
   "cell_type": "code",
   "execution_count": 102,
   "metadata": {},
   "outputs": [
    {
     "name": "stdout",
     "output_type": "stream",
     "text": [
      "RandomForestClassifier(bootstrap=True, ccp_alpha=0.0, class_weight=None,\n",
      "                       criterion='gini', max_depth=14, max_features='auto',\n",
      "                       max_leaf_nodes=None, max_samples=None,\n",
      "                       min_impurity_decrease=0.0, min_impurity_split=None,\n",
      "                       min_samples_leaf=51, min_samples_split=125,\n",
      "                       min_weight_fraction_leaf=0.0, n_estimators=117, n_jobs=1,\n",
      "                       oob_score=False, random_state=25, verbose=0,\n",
      "                       warm_start=False)\n"
     ]
    }
   ],
   "source": [
    "print(rf_random.best_estimator_)"
   ]
  },
  {
   "cell_type": "code",
   "execution_count": 103,
   "metadata": {},
   "outputs": [],
   "source": [
    "clf = RandomForestClassifier(bootstrap=True, class_weight=None, criterion='gini',\n",
    "            max_depth=14, max_features='auto', max_leaf_nodes=None,\n",
    "            min_impurity_decrease=0.0, min_impurity_split=None,\n",
    "            min_samples_leaf=28, min_samples_split=111,\n",
    "            min_weight_fraction_leaf=0.0, n_estimators=121, n_jobs=-1,\n",
    "            oob_score=False, random_state=25, verbose=0, warm_start=False)"
   ]
  },
  {
   "cell_type": "code",
   "execution_count": 104,
   "metadata": {},
   "outputs": [],
   "source": [
    "clf.fit(df_train,y_train)\n",
    "y_train_pred = clf.predict(df_train)\n",
    "y_test_pred = clf.predict(df_test)"
   ]
  },
  {
   "cell_type": "code",
   "execution_count": 105,
   "metadata": {},
   "outputs": [
    {
     "name": "stdout",
     "output_type": "stream",
     "text": [
      "Train f1 score 0.9648275722741874\n",
      "Test f1 score 0.9238008820612378\n"
     ]
    }
   ],
   "source": [
    "from sklearn.metrics import f1_score\n",
    "print('Train f1 score',f1_score(y_train,y_train_pred))\n",
    "print('Test f1 score',f1_score(y_test,y_test_pred))"
   ]
  },
  {
   "cell_type": "code",
   "execution_count": 109,
   "metadata": {},
   "outputs": [
    {
     "name": "stdout",
     "output_type": "stream",
     "text": [
      "Train confusion_matrix\n"
     ]
    },
    {
     "data": {
      "image/png": "[encoded data removed]",
      "text/plain": [
       "<Figure size 1440x288 with 6 Axes>"
      ]
     },
     "metadata": {},
     "output_type": "display_data"
    },
    {
     "name": "stdout",
     "output_type": "stream",
     "text": [
      "Test confusion_matrix\n"
     ]
    },
    {
     "data": {
      "image/png": "[encoded data removed]",
      "text/plain": [
       "<Figure size 1440x288 with 6 Axes>"
      ]
     },
     "metadata": {},
     "output_type": "display_data"
    }
   ],
   "source": [
    "print('Train confusion_matrix')\n",
    "plot_confusion_matrix(y_train,y_train_pred)\n",
    "print('Test confusion_matrix')\n",
    "plot_confusion_matrix(y_test,y_test_pred)"
   ]
  },
  {
   "cell_type": "code",
   "execution_count": 110,
   "metadata": {},
   "outputs": [
    {
     "data": {
      "image/png": "[encoded data removed]",
      "text/plain": [
       "<Figure size 432x288 with 1 Axes>"
      ]
     },
     "metadata": {},
     "output_type": "display_data"
    }
   ],
   "source": [
    "fpr,tpr,ths = roc_curve(y_test,y_test_pred)\n",
    "auc_sc = auc(fpr, tpr)\n",
    "plt.plot(fpr, tpr, color='navy',label='ROC curve (area = %0.2f)' % auc_sc)\n",
    "plt.xlabel('False Positive Rate')\n",
    "plt.ylabel('True Positive Rate')\n",
    "plt.title('Receiver operating characteristic with test data')\n",
    "plt.legend()\n",
    "plt.show()"
   ]
  },
  {
   "cell_type": "code",
   "execution_count": 98,
   "metadata": {},
   "outputs": [
    {
     "data": {
      "image/png": "[encoded data removed]",
      "text/plain": [
       "<Figure size 720x864 with 1 Axes>"
      ]
     },
     "metadata": {},
     "output_type": "display_data"
    }
   ],
   "source": [
    "features = df_final_train.columns\n",
    "importances = clf.feature_importances_\n",
    "indices = (np.argsort(importances))[-25:]\n",
    "plt.figure(figsize=(10,12))\n",
    "plt.title('Feature Importances')\n",
    "plt.barh(range(len(indices)), importances[indices], color='r', align='center')\n",
    "plt.yticks(range(len(indices)), [features[i] for i in indices])\n",
    "plt.xlabel('Relative Importance')\n",
    "plt.show()"
   ]
  },
  {
   "cell_type": "markdown",
   "metadata": {},
   "source": [
    "# Logistic Regression"
   ]
  },
  {
   "cell_type": "code",
   "execution_count": 121,
   "metadata": {},
   "outputs": [
    {
     "name": "stdout",
     "output_type": "stream",
     "text": [
      "Estimators =  0.0001 Train Score 0.21707351688901505 test Score 0.21305718790311023\n",
      "Estimators =  0.001 Train Score 0.5437395694699706 test Score 0.5409846560959475\n",
      "Estimators =  0.01 Train Score 0.6125164082733174 test Score 0.6109221128021486\n",
      "Estimators =  0.1 Train Score 0.5587252941951085 test Score 0.5491361875289359\n",
      "Estimators =  1 Train Score 0.6721767194619224 test Score 0.6670836165873556\n",
      "Estimators =  10 Train Score 0.6832632745041505 test Score 0.6713739874675225\n",
      "Estimators =  100 Train Score 0.2346086346086346 test Score 0.22898704984921056\n"
     ]
    },
    {
     "data": {
      "text/plain": [
       "Text(0.5, 1.0, 'alpha vs score at depth of 5')"
      ]
     },
     "execution_count": 121,
     "metadata": {},
     "output_type": "execute_result"
    },
    {
     "data": {
      "image/png": "[encoded data removed]",
      "text/plain": [
       "<Figure size 432x288 with 1 Axes>"
      ]
     },
     "metadata": {},
     "output_type": "display_data"
    }
   ],
   "source": [
    "param=[10**-4,10**-3,10**-2,10**-1,10**0,10**1,10**2]\n",
    "train_scores=[]\n",
    "test_scores=[]\n",
    "for i in param:\n",
    "    clf=SGDClassifier(loss=\"log\",alpha=i,penalty='l2',max_iter=1000,n_jobs=1)\n",
    "    train=clf.fit(df_train,y_train)\n",
    "    train_predict=clf.predict(df_train)\n",
    "    test_predict=clf.predict(df_test)\n",
    "    train_scr=f1_score(y_train,train_predict)\n",
    "    test_scr=f1_score(y_test,test_predict)\n",
    "    test_scores.append(test_scr)\n",
    "    train_scores.append(train_scr)\n",
    "    print('Estimators = ',i,'Train Score',train_scr,'test Score',test_scr)\n",
    "plt.plot(param,train_scores,label='Train Score')\n",
    "plt.plot(param,test_scores,label='Test Score')\n",
    "plt.xlabel('alpha')\n",
    "plt.ylabel('Score')\n",
    "plt.title('alpha vs score at depth of 5')"
   ]
  },
  {
   "cell_type": "code",
   "execution_count": 142,
   "metadata": {},
   "outputs": [
    {
     "name": "stdout",
     "output_type": "stream",
     "text": [
      "Train_score: 0.6761575287416571\n",
      "Test_score: 0.6717623751246996\n"
     ]
    }
   ],
   "source": [
    "best_alpha=1\n",
    "clf=SGDClassifier(alpha=1,loss=\"log\",penalty=\"l2\")\n",
    "train=clf.fit(df_train,y_train)\n",
    "train_predict=clf.predict(df_train)\n",
    "test_predict=clf.predict(df_test)\n",
    "train_scr=f1_score(y_train,train_predict)\n",
    "test_scr=f1_score(y_test,test_predict)\n",
    "print(\"Train_score:\",train_scr)\n",
    "print(\"Test_score:\",test_scr)"
   ]
  },
  {
   "cell_type": "code",
   "execution_count": 143,
   "metadata": {},
   "outputs": [
    {
     "name": "stdout",
     "output_type": "stream",
     "text": [
      "Train confusion_matrix\n"
     ]
    },
    {
     "data": {
      "image/png": "[encoded data removed]",
      "text/plain": [
       "<Figure size 1440x288 with 6 Axes>"
      ]
     },
     "metadata": {},
     "output_type": "display_data"
    },
    {
     "name": "stdout",
     "output_type": "stream",
     "text": [
      "Test confusion_matrix\n"
     ]
    },
    {
     "data": {
      "image/png": "[encoded data removed]",
      "text/plain": [
       "<Figure size 1440x288 with 6 Axes>"
      ]
     },
     "metadata": {},
     "output_type": "display_data"
    }
   ],
   "source": [
    "print('Train confusion_matrix')\n",
    "plot_confusion_matrix(y_train,train_predict)\n",
    "print('Test confusion_matrix')\n",
    "plot_confusion_matrix(y_test,test_predict)"
   ]
  },
  {
   "cell_type": "markdown",
   "metadata": {},
   "source": [
    "# Xgboost "
   ]
  },
  {
   "cell_type": "code",
   "execution_count": 111,
   "metadata": {},
   "outputs": [
    {
     "name": "stdout",
     "output_type": "stream",
     "text": [
      "Estimators =  100 depth 10 Train Score 1.0 test Score 0.9249300557418362\n",
      "Estimators =  150 depth 15 Train Score 1.0 test Score 0.9256667377853637\n",
      "Estimators =  200 depth 20 Train Score 1.0 test Score 0.9273831078922142\n",
      "Estimators =  250 depth 25 Train Score 1.0 test Score 0.927229346853564\n",
      "Estimators =  300 depth 30 Train Score 1.0 test Score 0.9275337621948622\n",
      "Estimators =  400 depth 35 Train Score 1.0 test Score 0.9273602590320381\n"
     ]
    },
    {
     "data": {
      "text/plain": [
       "Text(0.5, 1.0, 'Estimators vs score at depth of 5')"
      ]
     },
     "execution_count": 111,
     "metadata": {},
     "output_type": "execute_result"
    },
    {
     "data": {
      "image/png": "[encoded data removed]",
      "text/plain": [
       "<Figure size 432x288 with 1 Axes>"
      ]
     },
     "metadata": {},
     "output_type": "display_data"
    }
   ],
   "source": [
    "estimator=[100,150,200,250,300,400]\n",
    "depth=[10,15,20,25,30,35]\n",
    "train_score=[]\n",
    "test_score=[]\n",
    "for i,j in zip(estimator,depth):\n",
    "    clf=xgboost.XGBClassifier(n_estimators=i,max_depth=j,njobs=1)\n",
    "    train=clf.fit(df_train,y_train)\n",
    "    train_predict=clf.predict(df_train)\n",
    "    test_predict=clf.predict(df_test)\n",
    "    train_score.append(f1_score(y_train,train_predict))\n",
    "    test_score.append(f1_score(y_test,test_predict))\n",
    "    print('Estimators = ',i,\"depth\",j,'Train Score',f1_score(y_train,train_predict),'test Score',f1_score(y_test,test_predict))\n",
    "plt.plot(estimator,train_score,label='Train Score')\n",
    "plt.plot(estimator,test_score,label='Test Score')\n",
    "plt.xlabel('Estimators')\n",
    "plt.ylabel('Score')\n",
    "plt.title('Estimators vs score at depth of 5')\n",
    "    "
   ]
  },
  {
   "cell_type": "code",
   "execution_count": 112,
   "metadata": {},
   "outputs": [
    {
     "name": "stdout",
     "output_type": "stream",
     "text": [
      "Train confusion_matrix\n"
     ]
    },
    {
     "data": {
      "image/png": "[encoded data removed]",
      "text/plain": [
       "<Figure size 1440x288 with 6 Axes>"
      ]
     },
     "metadata": {},
     "output_type": "display_data"
    },
    {
     "name": "stdout",
     "output_type": "stream",
     "text": [
      "Test confusion_matrix\n"
     ]
    },
    {
     "data": {
      "image/png": "[encoded data removed]",
      "text/plain": [
       "<Figure size 1440x288 with 6 Axes>"
      ]
     },
     "metadata": {},
     "output_type": "display_data"
    }
   ],
   "source": [
    "print('Train confusion_matrix')\n",
    "plot_confusion_matrix(y_train,train_predict)\n",
    "print('Test confusion_matrix')\n",
    "plot_confusion_matrix(y_test,test_predict)"
   ]
  },
  {
   "cell_type": "code",
   "execution_count": 113,
   "metadata": {},
   "outputs": [
    {
     "data": {
      "image/png": "[encoded data removed]",
      "text/plain": [
       "<Figure size 432x288 with 1 Axes>"
      ]
     },
     "metadata": {},
     "output_type": "display_data"
    }
   ],
   "source": [
    "fpr,tpr,ths = roc_curve(y_test,test_predict)\n",
    "auc_sc = auc(fpr, tpr)\n",
    "plt.plot(fpr, tpr, color='navy',label='ROC curve (area = %0.2f)' % auc_sc)\n",
    "plt.xlabel('False Positive Rate')\n",
    "plt.ylabel('True Positive Rate')\n",
    "plt.title('Receiver operating characteristic with test data')\n",
    "plt.legend()\n",
    "plt.show()"
   ]
  },
  {
   "cell_type": "code",
   "execution_count": 114,
   "metadata": {},
   "outputs": [
    {
     "data": {
      "image/png": "[encoded data removed]",
      "text/plain": [
       "<Figure size 720x864 with 1 Axes>"
      ]
     },
     "metadata": {},
     "output_type": "display_data"
    }
   ],
   "source": [
    "features = df_final_train.columns\n",
    "importances = clf.feature_importances_\n",
    "indices = (np.argsort(importances))[-25:]\n",
    "plt.figure(figsize=(10,12))\n",
    "plt.title('Feature Importances')\n",
    "plt.barh(range(len(indices)), importances[indices], color='r', align='center')\n",
    "plt.yticks(range(len(indices)), [features[i] for i in indices])\n",
    "plt.xlabel('Relative Importance')\n",
    "plt.show()"
   ]
  },
  {
   "cell_type": "markdown",
   "metadata": {},
   "source": [
    "# conclusion"
   ]
  },
  {
   "cell_type": "markdown",
   "metadata": {},
   "source": [
    "1. First loading the dataset which the dataset consist of two features.They are source node and Destination nodes\n",
    "2. Next we are using the networkx to find the nodes and edges in the dataset.\n",
    "3. Applying Exploratory data Analysis here doing analysis on no of followers and followees uisng nodes and directed edges\n",
    "4. Applying the Featurization Part here we use various importance features to get better performance in the model.\n",
    "5. Train Test split we here randomly split the train and test split which we are randomly picking up therefore we have 1L train datapoints and 50k test datapoints.\n",
    "6. At the model implement stage we are applying the Randomforest model  and Xgboost with different estimators and depth using the hyperparameter tuning and we are selecting right hyperparameter for applying the test datapoints.\n",
    "7. we are using confusion matrix and F1 score thus we are ploting confusion matrix and F1score\n",
    "8. Finally we applied Feature importance for both the model and plotted in the bar graph\n",
    "\n",
    "\n"
   ]
  }
 ],
 "metadata": {
  "accelerator": "GPU",
  "colab": {
   "authorship_tag": "ABX9TyNg8ElAbKxR9qFyISJUrsyM",
   "collapsed_sections": [],
   "machine_shape": "hm",
   "name": "facebook friend recommendation system.ipynb",
   "provenance": [],
   "toc_visible": true
  },
  "kernelspec": {
   "display_name": "Python 3",
   "language": "python",
   "name": "python3"
  },
  "language_info": {
   "codemirror_mode": {
    "name": "ipython",
    "version": 3
   },
   "file_extension": ".py",
   "mimetype": "text/x-python",
   "name": "python",
   "nbconvert_exporter": "python",
   "pygments_lexer": "ipython3",
   "version": "3.6.5"
  }
 },
 "nbformat": 4,
 "nbformat_minor": 1
}
